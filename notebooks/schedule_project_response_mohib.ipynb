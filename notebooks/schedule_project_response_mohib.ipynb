{
  "cells": [
    {
      "cell_type": "markdown",
      "metadata": {
        "tags": [],
        "id": "985AIR5orTC_"
      },
      "source": [
        "# Name: Mohib Ahmad Siddiqui\n",
        "### Date: 08-17-2025"
      ]
    },
    {
      "cell_type": "markdown",
      "metadata": {
        "id": "fpvkIFgorTDD"
      },
      "source": [
        "<style>\n",
        ".jp-Notebook {\n",
        "    padding: var(--jp-notebook-padding);\n",
        "    margin-left: 160px;\n",
        "    outline: none;\n",
        "    overflow: auto;\n",
        "    background: var(--jp-layout-color0);\n",
        "}\n",
        "</style>"
      ]
    },
    {
      "cell_type": "markdown",
      "metadata": {
        "id": "6A2jLssurTDE"
      },
      "source": [
        "<img src=\"https://cdn.nba.com/logos/nba/1610612760/primary/L/logo.svg\" alt=\"logo\" style=\"position: fixed; top: -40px; left: 5px; height: 250px;\">"
      ]
    },
    {
      "cell_type": "markdown",
      "metadata": {
        "jp-MarkdownHeadingCollapsed": true,
        "tags": [],
        "id": "xtpej4cCrTDF"
      },
      "source": [
        "# Introduction  \n",
        "\n",
        "The purpose of this project is to gauge your technical skills and problem solving ability by working through something similar to a real NBA data science project. You will work your way through this R Markdown document, answering questions as you go along. Please begin by adding your name to the \"author\" key in the YAML header. When you're finished with the document, come back and type your answers into the answer key at the top. Please leave all your work below and have your answers where indicated below as well. Please note that we will be reviewing your code so make it clear, concise, and **avoid long printouts.** Feel free to add in as many new code chunks as you'd like.\n",
        "\n",
        "Remember that we will be grading the quality of your code and visuals alongside the correctness of your answers. Please try to use the tidyverse as much as possible (instead of base R and explicit loops). Please do not bring in any outside data, and use the provided data as truth (for example, some \"home\" games have been played at secondary locations, including TOR's entire 2020-21 season. These are not reflected in the data and you do not need to account for this.) Note that the OKC and DEN 2024-25 schedules in `schedule_24_partial.csv` intentionally include only 80 games, as the league holds 2 games out for each team in the middle of December due to unknown NBA Cup matchups. Do not assign specific games to fill those two slots.      \n",
        "\n",
        "**Note:**    \n",
        "\n",
        "**Throughout this document, any `season` column represents the year each season started. For example, the 2015-16 season will be in the dataset as 2015. We may refer to a season by just this number (e.g. 2015) instead of the full text (e.g. 2015-16).**   "
      ]
    },
    {
      "cell_type": "markdown",
      "metadata": {
        "id": "zIP0_0BjrTDG"
      },
      "source": [
        "# Answers  \n",
        "\n",
        "## Part 1      \n",
        "\n",
        "**Question 1:** 26 4-in-6 stretches in OKC's draft schedule.   \n",
        "\n",
        "**Question 2:** 25.1 4-in-6 stretches on average.  \n",
        "\n",
        "**Question 3:**    \n",
        "\n",
        "- Most 4-in-6 stretches on average: CHA (28.1)    \n",
        "- Fewest 4-in-6 stretches on average: NYK (22.2)       \n",
        "\n",
        "**Question 4:** This is a written question. Please leave your response in the document under Question 4.          \n",
        "\n",
        "**Question 5:**   \n",
        "\n",
        "- BKN Defensive eFG%: 54.5%   \n",
        "- When opponent on a B2B: 53.6%    \n",
        "\n",
        "## Part 2  \n",
        "\n",
        "Please show your work in the document, you don't need anything here.     \n",
        "\n",
        "## Part 3    \n",
        "\n",
        "**Question 8:**    \n",
        "\n",
        "- Most Helped by Schedule: MIL (0.02 wins)     \n",
        "- Most Hurt by Schedule: GSW (-1.81 wins)     \n",
        "  \n"
      ]
    },
    {
      "cell_type": "markdown",
      "metadata": {
        "id": "8NNjRx-KrTDG"
      },
      "source": [
        "# Setup and Load Data    "
      ]
    },
    {
      "cell_type": "code",
      "execution_count": 3,
      "metadata": {
        "id": "htlJPqOprTDH"
      },
      "outputs": [],
      "source": [
        "import pandas as pd\n",
        "import numpy as np\n",
        "import re\n",
        "# Note, you will likely have to change these paths. If your data is in the same folder as this project,\n",
        "# the paths will likely be fixed for you by deleting ../../Data/schedule_project/ from each string.\n",
        "schedule = pd.read_csv(\"schedule.csv\")\n",
        "draft_schedule = pd.read_csv(\"schedule_24_partial.csv\")\n",
        "locations = pd.read_csv(\"locations.csv\")\n",
        "game_data = pd.read_csv(\"team_game_data.csv\")"
      ]
    },
    {
      "cell_type": "markdown",
      "metadata": {
        "id": "uhPcuURKrTDI"
      },
      "source": [
        "## Part 1 -- Schedule Analysis               \n",
        "\n",
        "In this section, you're going to work to answer questions using NBA scheduling data.   "
      ]
    },
    {
      "cell_type": "markdown",
      "metadata": {
        "id": "_x6PJrwNrTDJ"
      },
      "source": [
        "### Question 1  \n",
        "\n",
        "**QUESTION:** How many times are the Thunder scheduled to play 4 games in 6 nights in the provided 80-game draft of the 2024-25 season schedule? (Note: clarification, the stretches can overlap, the question is really “How many games are the 4th game played over the past 6 nights?”)     \n",
        "\n"
      ]
    },
    {
      "cell_type": "code",
      "execution_count": 17,
      "metadata": {
        "tags": [],
        "colab": {
          "base_uri": "https://localhost:8080/"
        },
        "id": "rQwXWSDYrTDK",
        "outputId": "df9722cc-e008-4c6a-d76c-3fd31cb9c585"
      },
      "outputs": [
        {
          "output_type": "execute_result",
          "data": {
            "text/plain": [
              "26"
            ]
          },
          "metadata": {},
          "execution_count": 17
        }
      ],
      "source": [
        "\n",
        "okc_sched = draft_schedule[draft_schedule['team'] == 'OKC'].copy()\n",
        "\n",
        "okc_sched['gamedate'] = pd.to_datetime(okc_sched['gamedate'])\n",
        "\n",
        "okc_sched = okc_sched.sort_values('gamedate').reset_index(drop=True)\n",
        "\n",
        "count_4_in_6 = 0\n",
        "\n",
        "for idx, current_date in enumerate(okc_sched['gamedate']):\n",
        "    window_start = current_date - pd.Timedelta(days=5)\n",
        "    games_in_window = okc_sched[\n",
        "        (okc_sched['gamedate'] >= window_start) &\n",
        "        (okc_sched['gamedate'] <= current_date)\n",
        "    ]\n",
        "    if len(games_in_window) >= 4:\n",
        "        count_4_in_6 += 1\n",
        "\n",
        "count_4_in_6"
      ]
    },
    {
      "cell_type": "markdown",
      "metadata": {
        "id": "U52gt62rrTDK"
      },
      "source": [
        "<strong><span style=\"color:red\">ANSWER 1:</span></strong>   \n",
        "\n",
        "**26** 4-in-6 stretches in OKC's draft schedule.   "
      ]
    },
    {
      "cell_type": "markdown",
      "metadata": {
        "id": "0DvzZndbrTDK"
      },
      "source": [
        "### Question 2     \n",
        "\n",
        "**QUESTION:** From 2014-15 to 2023-24, what is the average number of 4-in-6 stretches for a team in a season? Adjust each team/season to per-82 games before taking your final average.   \n",
        "  \n"
      ]
    },
    {
      "cell_type": "code",
      "execution_count": 18,
      "metadata": {
        "jupyter": {
          "outputs_hidden": true
        },
        "colab": {
          "base_uri": "https://localhost:8080/"
        },
        "id": "vOrMEplDrTDK",
        "outputId": "3a31e375-35b0-4a71-e7e4-10ef54aedb85"
      },
      "outputs": [
        {
          "output_type": "stream",
          "name": "stdout",
          "text": [
            "Average per team-season (per-82): 25.10\n"
          ]
        }
      ],
      "source": [
        "\n",
        "schedule['gamedate'] = pd.to_datetime(schedule['gamedate'], errors='coerce')\n",
        "\n",
        "results = []\n",
        "\n",
        "for (team, season), group in schedule.groupby(['team', 'season']):\n",
        "    group = group.sort_values('gamedate').reset_index(drop=True)\n",
        "    dates = group['gamedate'].to_numpy()\n",
        "\n",
        "    window_sizes = np.empty(len(dates), dtype=int)\n",
        "    for i, d in enumerate(dates):\n",
        "        left = dates.searchsorted(d - np.timedelta64(5, 'D'), side='left')\n",
        "        window_sizes[i] = i - left + 1\n",
        "\n",
        "    group['is_4_in_6'] = (window_sizes >= 4).astype(int)\n",
        "\n",
        "    total_games = len(group)\n",
        "    flagged_count = group['is_4_in_6'].sum()\n",
        "\n",
        "    adj_count = flagged_count * (82 / total_games)\n",
        "\n",
        "    results.append({\n",
        "        'team': team,\n",
        "        'season': season,\n",
        "        'total_games': total_games,\n",
        "        'flagged_count': flagged_count,\n",
        "        'adj_4_in_6': adj_count\n",
        "    })\n",
        "\n",
        "df_results = pd.DataFrame(results)\n",
        "\n",
        "avg_per_82 = df_results['adj_4_in_6'].mean()\n",
        "avg_per_82\n",
        "final_avg = float(avg_per_82)\n",
        "print(f\"Average per team-season (per-82): {final_avg:.2f}\")"
      ]
    },
    {
      "cell_type": "markdown",
      "metadata": {
        "id": "xCbZx3v5rTDL"
      },
      "source": [
        "<strong><span style=\"color:red\">ANSWER 2:</span></strong>  \n",
        "\n",
        "**25.1** 4-in-6 stretches on average.  "
      ]
    },
    {
      "cell_type": "markdown",
      "metadata": {
        "id": "dfex3-CcrTDM"
      },
      "source": [
        "### Question 3  \n",
        "\n",
        "**QUESTION:** Which of the 30 NBA teams has had the highest average number of 4-in-6 stretches between 2014-15 and 2023-24? Which team has had the lowest average? Adjust each team/season to per-82 games.     \n"
      ]
    },
    {
      "cell_type": "code",
      "execution_count": 21,
      "metadata": {
        "colab": {
          "base_uri": "https://localhost:8080/"
        },
        "id": "VNwJmYV4rTDM",
        "outputId": "2b9d2c97-fa0c-466a-ce38-ff0f87af760e"
      },
      "outputs": [
        {
          "output_type": "stream",
          "name": "stdout",
          "text": [
            "Highest average (per-82 games): CHA: 28.11\n",
            "Lowest average  (per-82 games): NYK: 22.19\n"
          ]
        }
      ],
      "source": [
        "team_avg = (df_results\n",
        "            .groupby(\"team\", as_index=False)[\"adj_4_in_6\"]\n",
        "            .mean()\n",
        "            .rename(columns={\"adj_4_in_6\": \"avg_4_in_6_per82\"}))\n",
        "\n",
        "highest = team_avg.loc[team_avg[\"avg_4_in_6_per82\"].idxmax()]\n",
        "lowest  = team_avg.loc[team_avg[\"avg_4_in_6_per82\"].idxmin()]\n",
        "\n",
        "print(\"Highest average (per-82 games):\", f'{highest[\"team\"]}: {highest[\"avg_4_in_6_per82\"]:.2f}')\n",
        "print(\"Lowest average  (per-82 games):\", f'{lowest[\"team\"]}: {lowest[\"avg_4_in_6_per82\"]:.2f}')"
      ]
    },
    {
      "cell_type": "markdown",
      "metadata": {
        "id": "Pd_fQOporTDM"
      },
      "source": [
        "<strong><span style=\"color:red\">ANSWER 3:</span></strong>  \n",
        "\n",
        "- Most 4-in-6 stretches on average: CHA (28.1)     \n",
        "- Fewest 4-in-6 stretches on average: NYK (22.2)       "
      ]
    },
    {
      "cell_type": "markdown",
      "metadata": {
        "id": "DqReTUOyrTDN"
      },
      "source": [
        "### Question 4  \n",
        "\n",
        "**QUESTION:** Is the difference between most and least from Q3 surprising, or do you expect that size difference is likely to be the result of chance?    "
      ]
    },
    {
      "cell_type": "code",
      "execution_count": 7,
      "metadata": {
        "colab": {
          "base_uri": "https://localhost:8080/"
        },
        "id": "9Ntvv3XkrTDN",
        "outputId": "9fee7d00-2448-4163-90cd-497e2f984797"
      },
      "outputs": [
        {
          "output_type": "stream",
          "name": "stdout",
          "text": [
            "Observed gap: 5.92\n",
            "Std dev across teams: 1.56\n",
            "Gap in std dev units: 3.80\n"
          ]
        }
      ],
      "source": [
        "max_val = team_avg[\"avg_4_in_6_per82\"].max()\n",
        "min_val = team_avg[\"avg_4_in_6_per82\"].min()\n",
        "gap = max_val - min_val\n",
        "\n",
        "std_dev = team_avg[\"avg_4_in_6_per82\"].std()\n",
        "\n",
        "print(f\"Observed gap: {gap:.2f}\")\n",
        "print(f\"Std dev across teams: {std_dev:.2f}\")\n",
        "print(f\"Gap in std dev units: {gap/std_dev:.2f}\")"
      ]
    },
    {
      "cell_type": "markdown",
      "source": [
        "The observed gap between the highest and lowest team averages is 5.92 games per 82, which equals 3.80 standard deviations across teams. Under a rough normal-variation assumption, a gap this large would be extremely unlikely due to chance alone (p-value well below 0.01, likely < 0.001). This points towards persistent structural drivers rather than noise, for example geography and associated travel burden, time zone churn, or recurring schedule patterns. Thus, I do not expect this difference to be the result of chance."
      ],
      "metadata": {
        "id": "Nw42o3PL7slp"
      }
    },
    {
      "cell_type": "markdown",
      "metadata": {
        "id": "-VaONdm7rTDN"
      },
      "source": [
        "<strong><span style=\"color:red\">ANSWER 4:</span></strong>  "
      ]
    },
    {
      "cell_type": "markdown",
      "metadata": {
        "id": "fVoVo_qBrTDN"
      },
      "source": [
        "### Question 5   \n",
        "\n",
        "**QUESTION:** What was BKN's defensive eFG% in the 2023-24 season? What was their defensive eFG% that season in situations where their opponent was on the second night of back-to-back?  "
      ]
    },
    {
      "cell_type": "code",
      "source": [
        "df = game_data.copy()\n",
        "df[\"gamedate\"] = pd.to_datetime(df[\"gamedate\"])\n",
        "\n",
        "bkn_def = df[(df[\"season\"] == 2023) & (df[\"def_team\"] == \"BKN\")].copy()\n",
        "\n",
        "bkn_def[\"FGA\"] = (bkn_def[\"fg2made\"] + bkn_def[\"fg2missed\"]) + (bkn_def[\"fg3made\"] + bkn_def[\"fg3missed\"])\n",
        "bkn_def[\"FGM\"] = bkn_def[\"fg2made\"] + bkn_def[\"fg3made\"]\n",
        "\n",
        "bkn_def[\"def_eFG\"] = (bkn_def[\"FGM\"] + 0.5 * bkn_def[\"fg3made\"]) / bkn_def[\"FGA\"]\n",
        "\n",
        "df_sorted = df.sort_values([\"off_team\", \"gamedate\"]).copy()\n",
        "df_sorted[\"prev_gamedate\"] = df_sorted.groupby(\"off_team\")[\"gamedate\"].shift(1)\n",
        "df_sorted[\"days_since_last\"] = (df_sorted[\"gamedate\"] - df_sorted[\"prev_gamedate\"]).dt.days\n",
        "df_sorted[\"is_b2b\"] = df_sorted[\"days_since_last\"] == 1\n",
        "\n",
        "bkn_def = bkn_def.merge(\n",
        "    df_sorted[[\"off_team\", \"gamedate\", \"is_b2b\"]],\n",
        "    on=[\"off_team\", \"gamedate\"],\n",
        "    how=\"left\"\n",
        ")\n",
        "\n",
        "overall_efg = bkn_def[\"def_eFG\"].mean()\n",
        "b2b_efg = bkn_def.loc[bkn_def[\"is_b2b\"] == True, \"def_eFG\"].mean()\n",
        "\n",
        "print(f\"Brooklyn Nets Defensive eFG% (2023-24): {overall_efg:.3%}\")\n",
        "print(f\"Brooklyn Nets Defensive eFG% vs Opponents on B2B: {b2b_efg:.3%}\")\n",
        "print(f\"Difference (B2B - overall): {b2b_efg - overall_efg:.3f}%\")"
      ],
      "metadata": {
        "colab": {
          "base_uri": "https://localhost:8080/"
        },
        "id": "LW-7dqIDK1aa",
        "outputId": "842ae285-26c6-457f-b748-58b7cfd3ce09"
      },
      "execution_count": 22,
      "outputs": [
        {
          "output_type": "stream",
          "name": "stdout",
          "text": [
            "Brooklyn Nets Defensive eFG% (2023-24): 54.506%\n",
            "Brooklyn Nets Defensive eFG% vs Opponents on B2B: 53.634%\n",
            "Difference (B2B - overall): -0.009%\n"
          ]
        }
      ]
    },
    {
      "cell_type": "markdown",
      "metadata": {
        "id": "LBM4L_lirTDN"
      },
      "source": [
        "<strong><span style=\"color:red\">ANSWER 5:</span></strong>  \n",
        "\n",
        "- BKN Defensive eFG%: 54.5%   \n",
        "- When opponent on a B2B: 53.6%    "
      ]
    },
    {
      "cell_type": "markdown",
      "metadata": {
        "id": "1gMmNqlKrTDN"
      },
      "source": [
        "## Part 2 -- Trends and Visualizations                   \n",
        "\n",
        "This is an intentionally open ended section, and there are multiple approaches you could take to have a successful project. Feel free to be creative. However, for this section, please consider only the density of games and travel schedule, not the relative on-court strength of different teams.    \n",
        "\n",
        "### Question 6   \n",
        "\n",
        "**QUESTION:** Please identify at least 2 trends in scheduling over time. In other words, how are the more recent schedules different from the schedules of the past? Please include a visual (plot or styled table) highlighting or explaining each trend and include a brief written description of your findings.  \n"
      ]
    },
    {
      "cell_type": "code",
      "execution_count": 23,
      "metadata": {
        "collapsed": true,
        "jupyter": {
          "outputs_hidden": true
        },
        "colab": {
          "base_uri": "https://localhost:8080/"
        },
        "id": "u7dTfmQarTDN",
        "outputId": "ace23975-6c08-48e5-ce4f-c29890766a39"
      },
      "outputs": [
        {
          "output_type": "execute_result",
          "data": {
            "text/plain": [
              "(season\n",
              " 2014    19.333333\n",
              " 2015    17.800000\n",
              " 2016    16.366667\n",
              " 2017    14.433333\n",
              " 2018    13.266667\n",
              " 2019    12.195467\n",
              " 2020    17.349074\n",
              " 2021    14.100000\n",
              " 2022    13.366667\n",
              " 2023    14.066667\n",
              " Name: is_b2b, dtype: float64,\n",
              " season\n",
              " 2014    29.600000\n",
              " 2015    28.000000\n",
              " 2016    27.866667\n",
              " 2017    20.400000\n",
              " 2018    19.500000\n",
              " 2019    17.700000\n",
              " 2020    29.800000\n",
              " 2021    23.800000\n",
              " 2022    23.833333\n",
              " 2023    23.466667\n",
              " Name: gamedate, dtype: float64)"
            ]
          },
          "metadata": {},
          "execution_count": 23
        }
      ],
      "source": [
        "sched = pd.read_csv(\"schedule.csv\").copy()\n",
        "sched['gamedate'] = pd.to_datetime(sched['gamedate'])\n",
        "\n",
        "sched_sorted = sched.sort_values(['team','gamedate'])\n",
        "sched_sorted['prev_date'] = sched_sorted.groupby('team')['gamedate'].shift(1)\n",
        "sched_sorted['days_since_prev'] = (sched_sorted['gamedate'] - sched_sorted['prev_date']).dt.days\n",
        "sched_sorted['is_b2b'] = sched_sorted['days_since_prev'] == 1\n",
        "\n",
        "b2b_per_season = sched_sorted.groupby('season')['is_b2b'].mean() * 82  # per-82 games\n",
        "\n",
        "def four_in_six_count(dates):\n",
        "    dates = pd.Series(dates).sort_values().reset_index(drop=True)\n",
        "    count = 0\n",
        "    for i, d in enumerate(dates):\n",
        "        start = d - pd.Timedelta(days=5)\n",
        "        count += (dates[(dates >= start) & (dates <= d)].shape[0] >= 4)\n",
        "    return count\n",
        "\n",
        "four_in_six_per_season = (sched.groupby(['season','team'])['gamedate']\n",
        "                          .apply(four_in_six_count)\n",
        "                          .groupby('season').mean())\n",
        "\n",
        "b2b_per_season, four_in_six_per_season"
      ]
    },
    {
      "cell_type": "markdown",
      "metadata": {
        "id": "xrzmtoNrrTDO"
      },
      "source": [
        "<strong><span style=\"color:red\">ANSWER 6:</span></strong>  \n",
        "\n"
      ]
    },
    {
      "cell_type": "code",
      "source": [
        "import matplotlib.pyplot as plt\n",
        "\n",
        "plt.figure(figsize=(10,5))\n",
        "plt.plot(b2b_per_season.index, b2b_per_season.values, marker='o')\n",
        "plt.title('Average Back-to-Back Games per Team (per 82 games)')\n",
        "plt.xlabel('Season')\n",
        "plt.ylabel('B2B Games')\n",
        "plt.grid(True)\n",
        "plt.show()\n",
        "\n",
        "plt.figure(figsize=(10,5))\n",
        "plt.plot(four_in_six_per_season.index, four_in_six_per_season.values, marker='o', color='orange')\n",
        "plt.title('Average 4-in-6 Stretches per Team')\n",
        "plt.xlabel('Season')\n",
        "plt.ylabel('4-in-6 Count')\n",
        "plt.grid(True)\n",
        "plt.show()"
      ],
      "metadata": {
        "colab": {
          "base_uri": "https://localhost:8080/",
          "height": 957
        },
        "id": "wFWheVq6Hrc6",
        "outputId": "260cdd43-e528-4d37-a4a6-2e89f34bd066"
      },
      "execution_count": 24,
      "outputs": [
        {
          "output_type": "display_data",
          "data": {
            "text/plain": [
              "<Figure size 1000x500 with 1 Axes>"
            ],
            "image/png": "[encoded data removed]"
          },
          "metadata": {}
        },
        {
          "output_type": "display_data",
          "data": {
            "text/plain": [
              "<Figure size 1000x500 with 1 Axes>"
            ],
            "image/png": "[encoded data removed]"
          },
          "metadata": {}
        }
      ]
    },
    {
      "cell_type": "markdown",
      "source": [
        "**Findings:**\n",
        "Two clear scheduling trends emerge over the 2014–15 to 2023–24 seasons.\n",
        "\n",
        "**Back-to-Back Games:** The average number of back-to-backs per team (normalized to an 82-game season) declined steadily from over 19 in 2014–15 to just above 12 by 2018–19, reflecting the NBA’s efforts to reduce player fatigue and improve game quality. The sharp spike in 2019–20 corresponds to the COVID-19 pandemic’s compressed schedule, after which the number returned to the mid-teens and has remained lower than historical levels.\n",
        "\n",
        "**4-in-6 Stretches:** Similarly, the frequency of dense stretches with four games in six nights fell from around 29 per team in 2014–15 to below 18 by 2018–19. The pandemic-impacted 2019–20 season saw an anomalous increase back to ~30, likely due to a compressed calendar. Post-COVID, this metric stabilized at ~23–24, still well below the pre-reduction era.\n",
        "\n",
        "*These patterns indicate a deliberate long-term league trend toward reducing game density, interrupted temporarily by pandemic-related scheduling constraints.*"
      ],
      "metadata": {
        "id": "JFOi9uNoIR1C"
      }
    },
    {
      "cell_type": "markdown",
      "metadata": {
        "id": "YZsfz8ASrTDO"
      },
      "source": [
        "### Question 7    \n",
        "\n",
        "**QUESTION:** Please design a plotting tool to help visualize a team’s schedule for a season. The plot should cover the whole season and should help the viewer contextualize and understand a team’s schedule, potentially highlighting periods of excessive travel, dense blocks of games, or other schedule anomalies. If you can, making the plots interactive (for example through the plotly package) is a bonus.   \n",
        "\n",
        "Please use this tool to plot OKC and DEN's provided 80-game 2024-25 schedules.   "
      ]
    },
    {
      "cell_type": "code",
      "execution_count": 39,
      "metadata": {
        "id": "c3inYVM1rTDO"
      },
      "outputs": [],
      "source": [
        "import plotly.graph_objects as go\n",
        "from plotly.subplots import make_subplots\n",
        "\n",
        "sched24 = pd.read_csv(\"schedule_24_partial.csv\").copy()\n",
        "locs = pd.read_csv(\"locations.csv\").copy()\n",
        "\n",
        "sched24[\"gamedate\"] = pd.to_datetime(sched24[\"gamedate\"], errors=\"coerce\")\n"
      ]
    },
    {
      "cell_type": "code",
      "source": [
        "def haversine_km(lat1, lon1, lat2, lon2):\n",
        "    \"\"\"Great-circle distance in kilometers (vectorized).\"\"\"\n",
        "    R = 6371.0\n",
        "    lat1, lon1, lat2, lon2 = map(np.radians, [lat1, lon1, lat2, lon2])\n",
        "    dlat = lat2 - lat1\n",
        "    dlon = lon2 - lon1\n",
        "    a = np.sin(dlat/2.0)**2 + np.cos(lat1)*np.cos(lat2)*np.sin(dlon/2.0)**2\n",
        "    return 2 * R * np.arcsin(np.sqrt(a))"
      ],
      "metadata": {
        "id": "MLaWtapR6l-I"
      },
      "execution_count": null,
      "outputs": []
    },
    {
      "cell_type": "code",
      "source": [
        "def build_team_schedule(df_sched, df_locs, team_code):\n",
        "\n",
        "    d = (df_sched[df_sched[\"team\"] == team_code]\n",
        "      .copy())\n",
        "    d[\"gamedate\"] = pd.to_datetime(d[\"gamedate\"], errors=\"coerce\")\n",
        "    d = d.sort_values(\"gamedate\").reset_index(drop=True)\n",
        "    d[\"home\"] = pd.to_numeric(d[\"home\"], errors=\"coerce\").fillna(0).astype(int)\n",
        "\n",
        "    locs = df_locs.copy()\n",
        "    locs[\"latitude\"]  = pd.to_numeric(locs[\"latitude\"], errors=\"coerce\")\n",
        "    locs[\"longitude\"] = pd.to_numeric(locs[\"longitude\"], errors=\"coerce\")\n",
        "\n",
        "    d = d.merge(\n",
        "        locs.rename(columns={\n",
        "            \"team\":\"loc_team\",\"latitude\":\"lat_team\",\"longitude\":\"lon_team\",\"timezone\":\"tz_team\"\n",
        "        })[[\"loc_team\",\"lat_team\",\"lon_team\",\"tz_team\"]],\n",
        "        left_on=\"team\", right_on=\"loc_team\", how=\"left\"\n",
        "    )\n",
        "\n",
        "    d = d.merge(\n",
        "        locs.rename(columns={\n",
        "            \"team\":\"loc_opp\",\"latitude\":\"lat_opp\",\"longitude\":\"lon_opp\",\"timezone\":\"tz_opp\"\n",
        "        })[[\"loc_opp\",\"lat_opp\",\"lon_opp\",\"tz_opp\"]],\n",
        "        left_on=\"opponent\", right_on=\"loc_opp\", how=\"left\"\n",
        "    )\n",
        "\n",
        "    for col in [\"lat_team\",\"lon_team\",\"lat_opp\",\"lon_opp\"]:\n",
        "        d[col] = pd.to_numeric(d[col], errors=\"coerce\")\n",
        "\n",
        "    home_mask = d[\"home\"].eq(1)\n",
        "    d[\"game_lat\"] = np.where(home_mask, d[\"lat_team\"], d[\"lat_opp\"])\n",
        "    d[\"game_lon\"] = np.where(home_mask, d[\"lon_team\"], d[\"lon_opp\"])\n",
        "\n",
        "    d[\"prev_date\"] = d[\"gamedate\"].shift(1)\n",
        "    d[\"prev_lat\"]  = d[\"game_lat\"].shift(1)\n",
        "    d[\"prev_lon\"]  = d[\"game_lon\"].shift(1)\n",
        "\n",
        "    d[\"days_since_prev\"] = (d[\"gamedate\"] - d[\"prev_date\"]).dt.days\n",
        "    d[\"is_b2b\"] = d[\"days_since_prev\"] == 1\n",
        "\n",
        "    d[\"travel_km\"] = haversine_km(d[\"prev_lat\"], d[\"prev_lon\"], d[\"game_lat\"], d[\"game_lon\"])\n",
        "    d[\"travel_km\"] = d[\"travel_km\"].fillna(0.0)\n",
        "\n",
        "    d_idx = d.set_index(\"gamedate\")\n",
        "    d[\"games_last_6\"] = d_idx[\"team\"].rolling(\"6D\").count().astype(int).values\n",
        "    d[\"games_last_4\"] = d_idx[\"team\"].rolling(\"4D\").count().astype(int).values\n",
        "    d[\"is_4_in_6\"] = d[\"games_last_6\"] >= 4\n",
        "    d[\"is_3_in_4\"] = d[\"games_last_4\"] >= 3\n",
        "\n",
        "    keep = [\"season\",\"gamedate\",\"team\",\"opponent\",\"home\",\n",
        "            \"travel_km\",\"is_b2b\",\"games_last_6\",\"is_4_in_6\",\"games_last_4\",\"is_3_in_4\"]\n",
        "    return d[keep]\n"
      ],
      "metadata": {
        "id": "RKYtYFev6n7b"
      },
      "execution_count": 44,
      "outputs": []
    },
    {
      "cell_type": "code",
      "source": [
        "def plot_team_schedule(team_df, team_code, title_suffix=\"2024–25 (80-game draft)\"):\n",
        "    d = team_df.copy()\n",
        "    home_flag = np.where(d[\"home\"].astype(int) == 1, \"Home\", \"Away\")\n",
        "\n",
        "    fig = make_subplots(\n",
        "        rows=3, cols=1, shared_xaxes=True, vertical_spacing=0.07,\n",
        "        row_heights=[0.55, 0.25, 0.20],\n",
        "        subplot_titles=(\n",
        "            f\"{team_code} Schedule Timeline — {title_suffix}\",\n",
        "            \"Travel between consecutive games (km)\",\n",
        "            \"Games in last 6 days (threshold at 4)\"\n",
        "        )\n",
        "    )\n",
        "\n",
        "    fig.add_trace(\n",
        "        go.Scatter(\n",
        "            x=d[\"gamedate\"],\n",
        "            y=np.where(home_flag == \"Home\", 1, 0),\n",
        "            mode=\"markers\",\n",
        "            marker=dict(\n",
        "                size=np.clip(6 + (d[\"travel_km\"] / max(d[\"travel_km\"].max(), 1)) * 12, 6, 22),\n",
        "                symbol=np.where(d[\"is_b2b\"], \"diamond\", \"circle\"),\n",
        "                line=dict(width=1, color=\"black\"),\n",
        "                color=np.where(home_flag == \"Home\", \"blue\", \"orange\"),\n",
        "            ),\n",
        "            text=[f\"{team_code} vs {opp} on {dt.date()}<br>\"\n",
        "                  f\"{'Home' if h == 'Home' else 'Away'} | travel {km:.0f} km<br>\"\n",
        "                  f\"{'B2B ' if b else ''}{'4-in-6 ' if f46 else ''}{'3-in-4' if f34 else ''}\"\n",
        "                  for opp, dt, h, km, b, f46, f34 in zip(\n",
        "                      d[\"opponent\"], d[\"gamedate\"], home_flag, d[\"travel_km\"],\n",
        "                      d[\"is_b2b\"], d[\"is_4_in_6\"], d[\"is_3_in_4\"]\n",
        "                  )],\n",
        "            hoverinfo=\"text\",\n",
        "            name=\"Game\",\n",
        "        ),\n",
        "        row=1, col=1\n",
        "    )\n",
        "\n",
        "    for i, flag in enumerate(d[\"is_4_in_6\"]):\n",
        "        if flag:\n",
        "            x0 = d.loc[i, \"gamedate\"] - pd.Timedelta(days=0.5)\n",
        "            x1 = d.loc[i, \"gamedate\"] + pd.Timedelta(days=0.5)\n",
        "            fig.add_vrect(x0=x0, x1=x1, fillcolor=\"red\", opacity=0.08, line_width=0, row=1, col=1)\n",
        "\n",
        "    fig.add_trace(go.Bar(x=d[\"gamedate\"], y=d[\"travel_km\"], name=\"Travel (km)\"),\n",
        "                  row=2, col=1)\n",
        "\n",
        "    fig.add_trace(go.Scatter(x=d[\"gamedate\"], y=d[\"games_last_6\"],\n",
        "                             mode=\"lines+markers\", name=\"Games last 6 days\"),\n",
        "                  row=3, col=1)\n",
        "    fig.add_hline(y=4, line_dash=\"dot\", line_color=\"red\", row=3, col=1)\n",
        "\n",
        "    fig.update_yaxes(title_text=\"Game Location\", tickvals=[0, 1], ticktext=[\"Away\", \"Home\"],\n",
        "                     row=1, col=1, range=[-0.5, 1.5])\n",
        "    fig.update_yaxes(title_text=\"Travel Distance (km)\", row=2, col=1)\n",
        "    fig.update_yaxes(title_text=\"Games in Last 6 Days\", row=3, col=1)\n",
        "\n",
        "    for r in [1, 2, 3]:\n",
        "        fig.update_xaxes(\n",
        "            type=\"date\",\n",
        "            tickformat=\"%b %d\",\n",
        "            tickangle=45,\n",
        "            showticklabels=True,\n",
        "            tickfont=dict(size=10),\n",
        "            row=r, col=1\n",
        "        )\n",
        "\n",
        "    fig.update_xaxes(title_text=\"Date\", row=3, col=1)\n",
        "\n",
        "    fig.update_layout(\n",
        "        height=840,\n",
        "        showlegend=False,\n",
        "        hovermode=\"x unified\",\n",
        "        margin=dict(l=90, r=20, t=60, b=80),\n",
        "    )\n",
        "    return fig\n"
      ],
      "metadata": {
        "id": "qQDD5ghF6qNS"
      },
      "execution_count": 45,
      "outputs": []
    },
    {
      "cell_type": "markdown",
      "metadata": {
        "id": "hrbOfs_BrTDO"
      },
      "source": [
        "<strong><span style=\"color:red\">ANSWER 7:</span></strong>  "
      ]
    },
    {
      "cell_type": "code",
      "source": [
        "okc = build_team_schedule(sched24, locs, team_code=\"OKC\")\n",
        "fig_okc = plot_team_schedule(okc, \"OKC\")\n",
        "fig_okc.show()\n",
        "\n",
        "den = build_team_schedule(sched24, locs, team_code=\"DEN\")\n",
        "fig_den = plot_team_schedule(den, \"DEN\")\n",
        "fig_den.show()\n"
      ],
      "metadata": {
        "colab": {
          "base_uri": "https://localhost:8080/",
          "height": 1000
        },
        "id": "vY3bxOiy6xX8",
        "outputId": "36af311f-133f-4206-a994-1eaa39df87fe"
      },
      "execution_count": null,
      "outputs": [
        {
          "output_type": "display_data",
          "data": {
            "text/html": [
              "<html>\n",
              "<head><meta charset=\"utf-8\" /></head>\n",
              "<body>\n",
              "    <div>            <script src=\"https://cdnjs.cloudflare.com/ajax/libs/mathjax/2.7.5/MathJax.js?config=TeX-AMS-MML_SVG\"></script><script type=\"text/javascript\">if (window.MathJax && window.MathJax.Hub && window.MathJax.Hub.Config) {window.MathJax.Hub.Config({SVG: {font: \"STIX-Web\"}});}</script>                <script type=\"text/javascript\">window.PlotlyConfig = {MathJaxConfig: 'local'};</script>\n",
              "        <script charset=\"utf-8\" src=\"https://cdn.plot.ly/plotly-2.35.2.min.js\"></script>                <div id=\"405ebddc-f2d4-4055-98f3-c8add3ef6097\" class=\"plotly-graph-div\" style=\"height:840px; width:100%;\"></div>            <script type=\"text/javascript\">                                    window.PLOTLYENV=window.PLOTLYENV || {};                                    if (document.getElementById(\"405ebddc-f2d4-4055-98f3-c8add3ef6097\")) {                    Plotly.newPlot(                        \"405ebddc-f2d4-4055-98f3-c8add3ef6097\",                        [{\"hoverinfo\":\"text\",\"marker\":{\"color\":[\"orange\",\"orange\",\"blue\",\"blue\",\"orange\",\"orange\",\"blue\",\"orange\",\"blue\",\"blue\",\"blue\",\"blue\",\"blue\",\"blue\",\"orange\",\"blue\",\"orange\",\"orange\",\"orange\",\"orange\",\"blue\",\"orange\",\"orange\",\"orange\",\"orange\",\"blue\",\"orange\",\"orange\",\"blue\",\"blue\",\"blue\",\"blue\",\"blue\",\"orange\",\"orange\",\"orange\",\"orange\",\"blue\",\"orange\",\"blue\",\"blue\",\"blue\",\"orange\",\"orange\",\"blue\",\"blue\",\"blue\",\"blue\",\"orange\",\"blue\",\"blue\",\"orange\",\"orange\",\"orange\",\"blue\",\"orange\",\"orange\",\"orange\",\"blue\",\"orange\",\"blue\",\"blue\",\"blue\",\"orange\",\"orange\",\"orange\",\"blue\",\"blue\",\"orange\",\"orange\",\"blue\",\"blue\",\"blue\",\"blue\",\"orange\",\"blue\",\"blue\",\"orange\",\"orange\",\"orange\"],\"line\":{\"color\":\"black\",\"width\":1},\"size\":[6.0,13.368924123149299,11.553626476592648,6.0,17.934126268433094,12.648760640170934,15.48546187856867,10.063712566846005,10.063712566846005,6.0,6.0,6.0,6.0,6.0,9.38054857914382,9.38054857914382,16.744243830812934,6.5948714628076335,8.777116664885444,17.035945771105244,9.328767704881344,14.969317911068172,14.955596319044416,10.286176322793452,7.6418424727942424,15.85101315012375,11.53376219826586,9.440128564113031,13.547331625435712,6.0,6.0,6.0,6.0,13.63824540011311,9.244862277640095,7.651073970108393,6.96963773106718,16.09663504060819,7.519751166198947,7.519751166198947,6.0,6.0,17.934126268433094,10.31365177362378,17.128874595466197,6.0,6.0,6.0,9.387829673537091,9.387829673537091,6.0,11.580640867471594,13.913135003974208,13.913135003974208,11.580640867471594,16.656681773209336,11.995727671660141,13.05754272516646,9.38054857914382,9.387829673537091,9.387829673537091,6.0,6.0,18.0,10.918337426724168,8.02250490544828,11.888768330735395,6.0,15.48546187856867,8.905209112608048,16.744243830812934,6.0,6.0,6.0,9.328767704881344,9.328767704881344,6.0,12.753514891530553,10.067775735452905,17.51812927698575],\"symbol\":[\"circle\",\"circle\",\"diamond\",\"circle\",\"circle\",\"diamond\",\"circle\",\"circle\",\"circle\",\"circle\",\"diamond\",\"circle\",\"circle\",\"circle\",\"circle\",\"diamond\",\"circle\",\"circle\",\"circle\",\"circle\",\"circle\",\"circle\",\"circle\",\"circle\",\"diamond\",\"circle\",\"circle\",\"circle\",\"diamond\",\"circle\",\"circle\",\"diamond\",\"circle\",\"circle\",\"circle\",\"circle\",\"circle\",\"circle\",\"diamond\",\"circle\",\"circle\",\"diamond\",\"circle\",\"circle\",\"circle\",\"circle\",\"circle\",\"circle\",\"diamond\",\"circle\",\"circle\",\"diamond\",\"circle\",\"circle\",\"diamond\",\"circle\",\"circle\",\"circle\",\"diamond\",\"circle\",\"circle\",\"circle\",\"diamond\",\"circle\",\"circle\",\"diamond\",\"circle\",\"circle\",\"circle\",\"circle\",\"circle\",\"circle\",\"circle\",\"circle\",\"circle\",\"circle\",\"circle\",\"diamond\",\"circle\",\"circle\"]},\"mode\":\"markers\",\"name\":\"Game\",\"text\":[\"OKC vs DEN on 2024-10-24\\u003cbr\\u003eAway | travel 0 km\\u003cbr\\u003e\",\"OKC vs CHI on 2024-10-26\\u003cbr\\u003eAway | travel 1475 km\\u003cbr\\u003e\",\"OKC vs ATL on 2024-10-27\\u003cbr\\u003eHome | travel 1112 km\\u003cbr\\u003eB2B 3-in-4\",\"OKC vs SAS on 2024-10-30\\u003cbr\\u003eHome | travel 0 km\\u003cbr\\u003e\",\"OKC vs POR on 2024-11-01\\u003cbr\\u003eAway | travel 2389 km\\u003cbr\\u003e\",\"OKC vs LAC on 2024-11-02\\u003cbr\\u003eAway | travel 1331 km\\u003cbr\\u003eB2B 3-in-4\",\"OKC vs ORL on 2024-11-04\\u003cbr\\u003eHome | travel 1899 km\\u003cbr\\u003e4-in-6 3-in-4\",\"OKC vs DEN on 2024-11-06\\u003cbr\\u003eAway | travel 814 km\\u003cbr\\u003e4-in-6 \",\"OKC vs HOU on 2024-11-08\\u003cbr\\u003eHome | travel 814 km\\u003cbr\\u003e\",\"OKC vs GSW on 2024-11-10\\u003cbr\\u003eHome | travel 0 km\\u003cbr\\u003e\",\"OKC vs LAC on 2024-11-11\\u003cbr\\u003eHome | travel 0 km\\u003cbr\\u003eB2B 4-in-6 3-in-4\",\"OKC vs NOP on 2024-11-13\\u003cbr\\u003eHome | travel 0 km\\u003cbr\\u003e4-in-6 3-in-4\",\"OKC vs PHX on 2024-11-15\\u003cbr\\u003eHome | travel 0 km\\u003cbr\\u003e4-in-6 \",\"OKC vs DAL on 2024-11-17\\u003cbr\\u003eHome | travel 0 km\\u003cbr\\u003e\",\"OKC vs SAS on 2024-11-19\\u003cbr\\u003eAway | travel 677 km\\u003cbr\\u003e\",\"OKC vs POR on 2024-11-20\\u003cbr\\u003eHome | travel 677 km\\u003cbr\\u003eB2B 4-in-6 3-in-4\",\"OKC vs SAC on 2024-11-25\\u003cbr\\u003eAway | travel 2151 km\\u003cbr\\u003e\",\"OKC vs GSW on 2024-11-27\\u003cbr\\u003eAway | travel 119 km\\u003cbr\\u003e\",\"OKC vs LAL on 2024-11-29\\u003cbr\\u003eAway | travel 556 km\\u003cbr\\u003e\",\"OKC vs HOU on 2024-12-01\\u003cbr\\u003eAway | travel 2209 km\\u003cbr\\u003e\",\"OKC vs UTA on 2024-12-03\\u003cbr\\u003eHome | travel 666 km\\u003cbr\\u003e\",\"OKC vs TOR on 2024-12-05\\u003cbr\\u003eAway | travel 1796 km\\u003cbr\\u003e\",\"OKC vs NOP on 2024-12-07\\u003cbr\\u003eAway | travel 1793 km\\u003cbr\\u003e\",\"OKC vs ORL on 2024-12-19\\u003cbr\\u003eAway | travel 858 km\\u003cbr\\u003e\",\"OKC vs MIA on 2024-12-20\\u003cbr\\u003eAway | travel 329 km\\u003cbr\\u003eB2B \",\"OKC vs WAS on 2024-12-23\\u003cbr\\u003eHome | travel 1972 km\\u003cbr\\u003e\",\"OKC vs IND on 2024-12-26\\u003cbr\\u003eAway | travel 1108 km\\u003cbr\\u003e\",\"OKC vs CHA on 2024-12-28\\u003cbr\\u003eAway | travel 689 km\\u003cbr\\u003e\",\"OKC vs MEM on 2024-12-29\\u003cbr\\u003eHome | travel 1511 km\\u003cbr\\u003eB2B 3-in-4\",\"OKC vs MIN on 2024-12-31\\u003cbr\\u003eHome | travel 0 km\\u003cbr\\u003e4-in-6 3-in-4\",\"OKC vs LAC on 2025-01-02\\u003cbr\\u003eHome | travel 0 km\\u003cbr\\u003e4-in-6 \",\"OKC vs NYK on 2025-01-03\\u003cbr\\u003eHome | travel 0 km\\u003cbr\\u003eB2B 4-in-6 3-in-4\",\"OKC vs BOS on 2025-01-05\\u003cbr\\u003eHome | travel 0 km\\u003cbr\\u003e4-in-6 3-in-4\",\"OKC vs CLE on 2025-01-08\\u003cbr\\u003eAway | travel 1529 km\\u003cbr\\u003e\",\"OKC vs NYK on 2025-01-10\\u003cbr\\u003eAway | travel 650 km\\u003cbr\\u003e\",\"OKC vs WAS on 2025-01-12\\u003cbr\\u003eAway | travel 331 km\\u003cbr\\u003e\",\"OKC vs PHI on 2025-01-14\\u003cbr\\u003eAway | travel 194 km\\u003cbr\\u003e\",\"OKC vs CLE on 2025-01-16\\u003cbr\\u003eHome | travel 2021 km\\u003cbr\\u003e\",\"OKC vs DAL on 2025-01-17\\u003cbr\\u003eAway | travel 304 km\\u003cbr\\u003eB2B 4-in-6 3-in-4\",\"OKC vs BKN on 2025-01-19\\u003cbr\\u003eHome | travel 304 km\\u003cbr\\u003e4-in-6 3-in-4\",\"OKC vs UTA on 2025-01-22\\u003cbr\\u003eHome | travel 0 km\\u003cbr\\u003e\",\"OKC vs DAL on 2025-01-23\\u003cbr\\u003eHome | travel 0 km\\u003cbr\\u003eB2B \",\"OKC vs POR on 2025-01-26\\u003cbr\\u003eAway | travel 2389 km\\u003cbr\\u003e\",\"OKC vs GSW on 2025-01-29\\u003cbr\\u003eAway | travel 864 km\\u003cbr\\u003e\",\"OKC vs SAC on 2025-02-01\\u003cbr\\u003eHome | travel 2228 km\\u003cbr\\u003e\",\"OKC vs MIL on 2025-02-03\\u003cbr\\u003eHome | travel 0 km\\u003cbr\\u003e\",\"OKC vs PHX on 2025-02-05\\u003cbr\\u003eHome | travel 0 km\\u003cbr\\u003e\",\"OKC vs TOR on 2025-02-07\\u003cbr\\u003eHome | travel 0 km\\u003cbr\\u003e\",\"OKC vs MEM on 2025-02-08\\u003cbr\\u003eAway | travel 678 km\\u003cbr\\u003eB2B 4-in-6 3-in-4\",\"OKC vs NOP on 2025-02-10\\u003cbr\\u003eHome | travel 678 km\\u003cbr\\u003e4-in-6 3-in-4\",\"OKC vs MIA on 2025-02-12\\u003cbr\\u003eHome | travel 0 km\\u003cbr\\u003e4-in-6 \",\"OKC vs MIN on 2025-02-13\\u003cbr\\u003eAway | travel 1117 km\\u003cbr\\u003eB2B 4-in-6 3-in-4\",\"OKC vs UTA on 2025-02-21\\u003cbr\\u003eAway | travel 1584 km\\u003cbr\\u003e\",\"OKC vs MIN on 2025-02-23\\u003cbr\\u003eAway | travel 1584 km\\u003cbr\\u003e\",\"OKC vs MIN on 2025-02-24\\u003cbr\\u003eHome | travel 1117 km\\u003cbr\\u003eB2B 3-in-4\",\"OKC vs BKN on 2025-02-26\\u003cbr\\u003eAway | travel 2133 km\\u003cbr\\u003e4-in-6 3-in-4\",\"OKC vs ATL on 2025-02-28\\u003cbr\\u003eAway | travel 1200 km\\u003cbr\\u003e4-in-6 \",\"OKC vs SAS on 2025-03-02\\u003cbr\\u003eAway | travel 1413 km\\u003cbr\\u003e\",\"OKC vs HOU on 2025-03-03\\u003cbr\\u003eHome | travel 677 km\\u003cbr\\u003eB2B 4-in-6 3-in-4\",\"OKC vs MEM on 2025-03-05\\u003cbr\\u003eAway | travel 678 km\\u003cbr\\u003e4-in-6 3-in-4\",\"OKC vs POR on 2025-03-07\\u003cbr\\u003eHome | travel 678 km\\u003cbr\\u003e4-in-6 \",\"OKC vs DEN on 2025-03-09\\u003cbr\\u003eHome | travel 0 km\\u003cbr\\u003e\",\"OKC vs DEN on 2025-03-10\\u003cbr\\u003eHome | travel 0 km\\u003cbr\\u003eB2B 4-in-6 3-in-4\",\"OKC vs BOS on 2025-03-12\\u003cbr\\u003eAway | travel 2402 km\\u003cbr\\u003e4-in-6 3-in-4\",\"OKC vs DET on 2025-03-15\\u003cbr\\u003eAway | travel 985 km\\u003cbr\\u003e\",\"OKC vs MIL on 2025-03-16\\u003cbr\\u003eAway | travel 405 km\\u003cbr\\u003eB2B \",\"OKC vs PHI on 2025-03-19\\u003cbr\\u003eHome | travel 1179 km\\u003cbr\\u003e\",\"OKC vs CHA on 2025-03-21\\u003cbr\\u003eHome | travel 0 km\\u003cbr\\u003e\",\"OKC vs LAC on 2025-03-23\\u003cbr\\u003eAway | travel 1899 km\\u003cbr\\u003e\",\"OKC vs SAC on 2025-03-25\\u003cbr\\u003eAway | travel 582 km\\u003cbr\\u003e\",\"OKC vs MEM on 2025-03-27\\u003cbr\\u003eHome | travel 2151 km\\u003cbr\\u003e\",\"OKC vs IND on 2025-03-29\\u003cbr\\u003eHome | travel 0 km\\u003cbr\\u003e\",\"OKC vs CHI on 2025-03-31\\u003cbr\\u003eHome | travel 0 km\\u003cbr\\u003e\",\"OKC vs DET on 2025-04-02\\u003cbr\\u003eHome | travel 0 km\\u003cbr\\u003e\",\"OKC vs HOU on 2025-04-04\\u003cbr\\u003eAway | travel 666 km\\u003cbr\\u003e\",\"OKC vs LAL on 2025-04-06\\u003cbr\\u003eHome | travel 666 km\\u003cbr\\u003e\",\"OKC vs LAL on 2025-04-08\\u003cbr\\u003eHome | travel 0 km\\u003cbr\\u003e\",\"OKC vs PHX on 2025-04-09\\u003cbr\\u003eAway | travel 1352 km\\u003cbr\\u003eB2B 4-in-6 3-in-4\",\"OKC vs UTA on 2025-04-11\\u003cbr\\u003eAway | travel 814 km\\u003cbr\\u003e4-in-6 3-in-4\",\"OKC vs NOP on 2025-04-13\\u003cbr\\u003eAway | travel 2306 km\\u003cbr\\u003e4-in-6 \"],\"x\":[\"2024-10-24T00:00:00\",\"2024-10-26T00:00:00\",\"2024-10-27T00:00:00\",\"2024-10-30T00:00:00\",\"2024-11-01T00:00:00\",\"2024-11-02T00:00:00\",\"2024-11-04T00:00:00\",\"2024-11-06T00:00:00\",\"2024-11-08T00:00:00\",\"2024-11-10T00:00:00\",\"2024-11-11T00:00:00\",\"2024-11-13T00:00:00\",\"2024-11-15T00:00:00\",\"2024-11-17T00:00:00\",\"2024-11-19T00:00:00\",\"2024-11-20T00:00:00\",\"2024-11-25T00:00:00\",\"2024-11-27T00:00:00\",\"2024-11-29T00:00:00\",\"2024-12-01T00:00:00\",\"2024-12-03T00:00:00\",\"2024-12-05T00:00:00\",\"2024-12-07T00:00:00\",\"2024-12-19T00:00:00\",\"2024-12-20T00:00:00\",\"2024-12-23T00:00:00\",\"2024-12-26T00:00:00\",\"2024-12-28T00:00:00\",\"2024-12-29T00:00:00\",\"2024-12-31T00:00:00\",\"2025-01-02T00:00:00\",\"2025-01-03T00:00:00\",\"2025-01-05T00:00:00\",\"2025-01-08T00:00:00\",\"2025-01-10T00:00:00\",\"2025-01-12T00:00:00\",\"2025-01-14T00:00:00\",\"2025-01-16T00:00:00\",\"2025-01-17T00:00:00\",\"2025-01-19T00:00:00\",\"2025-01-22T00:00:00\",\"2025-01-23T00:00:00\",\"2025-01-26T00:00:00\",\"2025-01-29T00:00:00\",\"2025-02-01T00:00:00\",\"2025-02-03T00:00:00\",\"2025-02-05T00:00:00\",\"2025-02-07T00:00:00\",\"2025-02-08T00:00:00\",\"2025-02-10T00:00:00\",\"2025-02-12T00:00:00\",\"2025-02-13T00:00:00\",\"2025-02-21T00:00:00\",\"2025-02-23T00:00:00\",\"2025-02-24T00:00:00\",\"2025-02-26T00:00:00\",\"2025-02-28T00:00:00\",\"2025-03-02T00:00:00\",\"2025-03-03T00:00:00\",\"2025-03-05T00:00:00\",\"2025-03-07T00:00:00\",\"2025-03-09T00:00:00\",\"2025-03-10T00:00:00\",\"2025-03-12T00:00:00\",\"2025-03-15T00:00:00\",\"2025-03-16T00:00:00\",\"2025-03-19T00:00:00\",\"2025-03-21T00:00:00\",\"2025-03-23T00:00:00\",\"2025-03-25T00:00:00\",\"2025-03-27T00:00:00\",\"2025-03-29T00:00:00\",\"2025-03-31T00:00:00\",\"2025-04-02T00:00:00\",\"2025-04-04T00:00:00\",\"2025-04-06T00:00:00\",\"2025-04-08T00:00:00\",\"2025-04-09T00:00:00\",\"2025-04-11T00:00:00\",\"2025-04-13T00:00:00\"],\"y\":[0,0,1,1,0,0,1,0,1,1,1,1,1,1,0,1,0,0,0,0,1,0,0,0,0,1,0,0,1,1,1,1,1,0,0,0,0,1,0,1,1,1,0,0,1,1,1,1,0,1,1,0,0,0,1,0,0,0,1,0,1,1,1,0,0,0,1,1,0,0,1,1,1,1,0,1,1,0,0,0],\"type\":\"scatter\",\"xaxis\":\"x\",\"yaxis\":\"y\"},{\"name\":\"Travel (km)\",\"x\":[\"2024-10-24T00:00:00\",\"2024-10-26T00:00:00\",\"2024-10-27T00:00:00\",\"2024-10-30T00:00:00\",\"2024-11-01T00:00:00\",\"2024-11-02T00:00:00\",\"2024-11-04T00:00:00\",\"2024-11-06T00:00:00\",\"2024-11-08T00:00:00\",\"2024-11-10T00:00:00\",\"2024-11-11T00:00:00\",\"2024-11-13T00:00:00\",\"2024-11-15T00:00:00\",\"2024-11-17T00:00:00\",\"2024-11-19T00:00:00\",\"2024-11-20T00:00:00\",\"2024-11-25T00:00:00\",\"2024-11-27T00:00:00\",\"2024-11-29T00:00:00\",\"2024-12-01T00:00:00\",\"2024-12-03T00:00:00\",\"2024-12-05T00:00:00\",\"2024-12-07T00:00:00\",\"2024-12-19T00:00:00\",\"2024-12-20T00:00:00\",\"2024-12-23T00:00:00\",\"2024-12-26T00:00:00\",\"2024-12-28T00:00:00\",\"2024-12-29T00:00:00\",\"2024-12-31T00:00:00\",\"2025-01-02T00:00:00\",\"2025-01-03T00:00:00\",\"2025-01-05T00:00:00\",\"2025-01-08T00:00:00\",\"2025-01-10T00:00:00\",\"2025-01-12T00:00:00\",\"2025-01-14T00:00:00\",\"2025-01-16T00:00:00\",\"2025-01-17T00:00:00\",\"2025-01-19T00:00:00\",\"2025-01-22T00:00:00\",\"2025-01-23T00:00:00\",\"2025-01-26T00:00:00\",\"2025-01-29T00:00:00\",\"2025-02-01T00:00:00\",\"2025-02-03T00:00:00\",\"2025-02-05T00:00:00\",\"2025-02-07T00:00:00\",\"2025-02-08T00:00:00\",\"2025-02-10T00:00:00\",\"2025-02-12T00:00:00\",\"2025-02-13T00:00:00\",\"2025-02-21T00:00:00\",\"2025-02-23T00:00:00\",\"2025-02-24T00:00:00\",\"2025-02-26T00:00:00\",\"2025-02-28T00:00:00\",\"2025-03-02T00:00:00\",\"2025-03-03T00:00:00\",\"2025-03-05T00:00:00\",\"2025-03-07T00:00:00\",\"2025-03-09T00:00:00\",\"2025-03-10T00:00:00\",\"2025-03-12T00:00:00\",\"2025-03-15T00:00:00\",\"2025-03-16T00:00:00\",\"2025-03-19T00:00:00\",\"2025-03-21T00:00:00\",\"2025-03-23T00:00:00\",\"2025-03-25T00:00:00\",\"2025-03-27T00:00:00\",\"2025-03-29T00:00:00\",\"2025-03-31T00:00:00\",\"2025-04-02T00:00:00\",\"2025-04-04T00:00:00\",\"2025-04-06T00:00:00\",\"2025-04-08T00:00:00\",\"2025-04-09T00:00:00\",\"2025-04-11T00:00:00\",\"2025-04-13T00:00:00\"],\"y\":[0.0,1475.2365254971658,1111.8193769290913,0.0,2389.1763135109422,1331.0619544656363,1898.9610410719042,813.5430773265962,813.5430773265962,0.0,0.0,0.0,0.0,0.0,676.7756943654268,676.7756943654268,2150.965415462684,119.0914840814909,555.9704335583473,2209.3632697065273,666.4093185203822,1795.6305656121658,1792.8835440113019,858.079654564781,328.69194260932414,1972.1433101152058,1107.8426079394014,688.7034288007742,1510.9531727847693,0.0,0.0,0.0,0.0,1529.1538380153397,649.611703443185,330.5400607057068,194.1185678485673,2021.3160764849936,304.24962892485684,304.24962892485684,0.0,0.0,2389.1763135109422,863.5801574797273,2227.9673418448356,0.0,0.0,0.0,678.2333476422194,678.2333476422194,0.0,1117.2275770235233,1584.18591289061,1584.18591289061,1117.2275770235233,2133.435753945515,1200.326711246815,1412.8989028011226,676.7756943654268,678.2333476422194,678.2333476422194,0.0,0.0,2402.3640371533947,984.6364130456426,404.8994208179393,1178.913771740545,0.0,1898.9610410719042,581.6141577116587,2150.965415462684,0.0,0.0,0.0,666.4093185203822,666.4093185203822,0.0,1352.0334416494093,814.3565115047714,2305.8949625261835],\"type\":\"bar\",\"xaxis\":\"x2\",\"yaxis\":\"y2\"},{\"mode\":\"lines+markers\",\"name\":\"Games last 6 days\",\"x\":[\"2024-10-24T00:00:00\",\"2024-10-26T00:00:00\",\"2024-10-27T00:00:00\",\"2024-10-30T00:00:00\",\"2024-11-01T00:00:00\",\"2024-11-02T00:00:00\",\"2024-11-04T00:00:00\",\"2024-11-06T00:00:00\",\"2024-11-08T00:00:00\",\"2024-11-10T00:00:00\",\"2024-11-11T00:00:00\",\"2024-11-13T00:00:00\",\"2024-11-15T00:00:00\",\"2024-11-17T00:00:00\",\"2024-11-19T00:00:00\",\"2024-11-20T00:00:00\",\"2024-11-25T00:00:00\",\"2024-11-27T00:00:00\",\"2024-11-29T00:00:00\",\"2024-12-01T00:00:00\",\"2024-12-03T00:00:00\",\"2024-12-05T00:00:00\",\"2024-12-07T00:00:00\",\"2024-12-19T00:00:00\",\"2024-12-20T00:00:00\",\"2024-12-23T00:00:00\",\"2024-12-26T00:00:00\",\"2024-12-28T00:00:00\",\"2024-12-29T00:00:00\",\"2024-12-31T00:00:00\",\"2025-01-02T00:00:00\",\"2025-01-03T00:00:00\",\"2025-01-05T00:00:00\",\"2025-01-08T00:00:00\",\"2025-01-10T00:00:00\",\"2025-01-12T00:00:00\",\"2025-01-14T00:00:00\",\"2025-01-16T00:00:00\",\"2025-01-17T00:00:00\",\"2025-01-19T00:00:00\",\"2025-01-22T00:00:00\",\"2025-01-23T00:00:00\",\"2025-01-26T00:00:00\",\"2025-01-29T00:00:00\",\"2025-02-01T00:00:00\",\"2025-02-03T00:00:00\",\"2025-02-05T00:00:00\",\"2025-02-07T00:00:00\",\"2025-02-08T00:00:00\",\"2025-02-10T00:00:00\",\"2025-02-12T00:00:00\",\"2025-02-13T00:00:00\",\"2025-02-21T00:00:00\",\"2025-02-23T00:00:00\",\"2025-02-24T00:00:00\",\"2025-02-26T00:00:00\",\"2025-02-28T00:00:00\",\"2025-03-02T00:00:00\",\"2025-03-03T00:00:00\",\"2025-03-05T00:00:00\",\"2025-03-07T00:00:00\",\"2025-03-09T00:00:00\",\"2025-03-10T00:00:00\",\"2025-03-12T00:00:00\",\"2025-03-15T00:00:00\",\"2025-03-16T00:00:00\",\"2025-03-19T00:00:00\",\"2025-03-21T00:00:00\",\"2025-03-23T00:00:00\",\"2025-03-25T00:00:00\",\"2025-03-27T00:00:00\",\"2025-03-29T00:00:00\",\"2025-03-31T00:00:00\",\"2025-04-02T00:00:00\",\"2025-04-04T00:00:00\",\"2025-04-06T00:00:00\",\"2025-04-08T00:00:00\",\"2025-04-09T00:00:00\",\"2025-04-11T00:00:00\",\"2025-04-13T00:00:00\"],\"y\":[1,2,3,3,3,3,4,4,3,3,4,4,4,3,3,4,2,2,3,3,3,3,3,1,2,3,2,3,3,4,4,4,4,3,3,3,3,3,4,4,3,3,3,2,2,3,3,3,4,4,4,4,1,2,3,4,4,3,4,4,4,3,4,4,3,3,3,3,3,3,3,3,3,3,3,3,3,4,4,4],\"type\":\"scatter\",\"xaxis\":\"x3\",\"yaxis\":\"y3\"}],                        {\"template\":{\"data\":{\"histogram2dcontour\":[{\"type\":\"histogram2dcontour\",\"colorbar\":{\"outlinewidth\":0,\"ticks\":\"\"},\"colorscale\":[[0.0,\"#0d0887\"],[0.1111111111111111,\"#46039f\"],[0.2222222222222222,\"#7201a8\"],[0.3333333333333333,\"#9c179e\"],[0.4444444444444444,\"#bd3786\"],[0.5555555555555556,\"#d8576b\"],[0.6666666666666666,\"#ed7953\"],[0.7777777777777778,\"#fb9f3a\"],[0.8888888888888888,\"#fdca26\"],[1.0,\"#f0f921\"]]}],\"choropleth\":[{\"type\":\"choropleth\",\"colorbar\":{\"outlinewidth\":0,\"ticks\":\"\"}}],\"histogram2d\":[{\"type\":\"histogram2d\",\"colorbar\":{\"outlinewidth\":0,\"ticks\":\"\"},\"colorscale\":[[0.0,\"#0d0887\"],[0.1111111111111111,\"#46039f\"],[0.2222222222222222,\"#7201a8\"],[0.3333333333333333,\"#9c179e\"],[0.4444444444444444,\"#bd3786\"],[0.5555555555555556,\"#d8576b\"],[0.6666666666666666,\"#ed7953\"],[0.7777777777777778,\"#fb9f3a\"],[0.8888888888888888,\"#fdca26\"],[1.0,\"#f0f921\"]]}],\"heatmap\":[{\"type\":\"heatmap\",\"colorbar\":{\"outlinewidth\":0,\"ticks\":\"\"},\"colorscale\":[[0.0,\"#0d0887\"],[0.1111111111111111,\"#46039f\"],[0.2222222222222222,\"#7201a8\"],[0.3333333333333333,\"#9c179e\"],[0.4444444444444444,\"#bd3786\"],[0.5555555555555556,\"#d8576b\"],[0.6666666666666666,\"#ed7953\"],[0.7777777777777778,\"#fb9f3a\"],[0.8888888888888888,\"#fdca26\"],[1.0,\"#f0f921\"]]}],\"heatmapgl\":[{\"type\":\"heatmapgl\",\"colorbar\":{\"outlinewidth\":0,\"ticks\":\"\"},\"colorscale\":[[0.0,\"#0d0887\"],[0.1111111111111111,\"#46039f\"],[0.2222222222222222,\"#7201a8\"],[0.3333333333333333,\"#9c179e\"],[0.4444444444444444,\"#bd3786\"],[0.5555555555555556,\"#d8576b\"],[0.6666666666666666,\"#ed7953\"],[0.7777777777777778,\"#fb9f3a\"],[0.8888888888888888,\"#fdca26\"],[1.0,\"#f0f921\"]]}],\"contourcarpet\":[{\"type\":\"contourcarpet\",\"colorbar\":{\"outlinewidth\":0,\"ticks\":\"\"}}],\"contour\":[{\"type\":\"contour\",\"colorbar\":{\"outlinewidth\":0,\"ticks\":\"\"},\"colorscale\":[[0.0,\"#0d0887\"],[0.1111111111111111,\"#46039f\"],[0.2222222222222222,\"#7201a8\"],[0.3333333333333333,\"#9c179e\"],[0.4444444444444444,\"#bd3786\"],[0.5555555555555556,\"#d8576b\"],[0.6666666666666666,\"#ed7953\"],[0.7777777777777778,\"#fb9f3a\"],[0.8888888888888888,\"#fdca26\"],[1.0,\"#f0f921\"]]}],\"surface\":[{\"type\":\"surface\",\"colorbar\":{\"outlinewidth\":0,\"ticks\":\"\"},\"colorscale\":[[0.0,\"#0d0887\"],[0.1111111111111111,\"#46039f\"],[0.2222222222222222,\"#7201a8\"],[0.3333333333333333,\"#9c179e\"],[0.4444444444444444,\"#bd3786\"],[0.5555555555555556,\"#d8576b\"],[0.6666666666666666,\"#ed7953\"],[0.7777777777777778,\"#fb9f3a\"],[0.8888888888888888,\"#fdca26\"],[1.0,\"#f0f921\"]]}],\"mesh3d\":[{\"type\":\"mesh3d\",\"colorbar\":{\"outlinewidth\":0,\"ticks\":\"\"}}],\"scatter\":[{\"fillpattern\":{\"fillmode\":\"overlay\",\"size\":10,\"solidity\":0.2},\"type\":\"scatter\"}],\"parcoords\":[{\"type\":\"parcoords\",\"line\":{\"colorbar\":{\"outlinewidth\":0,\"ticks\":\"\"}}}],\"scatterpolargl\":[{\"type\":\"scatterpolargl\",\"marker\":{\"colorbar\":{\"outlinewidth\":0,\"ticks\":\"\"}}}],\"bar\":[{\"error_x\":{\"color\":\"#2a3f5f\"},\"error_y\":{\"color\":\"#2a3f5f\"},\"marker\":{\"line\":{\"color\":\"#E5ECF6\",\"width\":0.5},\"pattern\":{\"fillmode\":\"overlay\",\"size\":10,\"solidity\":0.2}},\"type\":\"bar\"}],\"scattergeo\":[{\"type\":\"scattergeo\",\"marker\":{\"colorbar\":{\"outlinewidth\":0,\"ticks\":\"\"}}}],\"scatterpolar\":[{\"type\":\"scatterpolar\",\"marker\":{\"colorbar\":{\"outlinewidth\":0,\"ticks\":\"\"}}}],\"histogram\":[{\"marker\":{\"pattern\":{\"fillmode\":\"overlay\",\"size\":10,\"solidity\":0.2}},\"type\":\"histogram\"}],\"scattergl\":[{\"type\":\"scattergl\",\"marker\":{\"colorbar\":{\"outlinewidth\":0,\"ticks\":\"\"}}}],\"scatter3d\":[{\"type\":\"scatter3d\",\"line\":{\"colorbar\":{\"outlinewidth\":0,\"ticks\":\"\"}},\"marker\":{\"colorbar\":{\"outlinewidth\":0,\"ticks\":\"\"}}}],\"scattermapbox\":[{\"type\":\"scattermapbox\",\"marker\":{\"colorbar\":{\"outlinewidth\":0,\"ticks\":\"\"}}}],\"scatterternary\":[{\"type\":\"scatterternary\",\"marker\":{\"colorbar\":{\"outlinewidth\":0,\"ticks\":\"\"}}}],\"scattercarpet\":[{\"type\":\"scattercarpet\",\"marker\":{\"colorbar\":{\"outlinewidth\":0,\"ticks\":\"\"}}}],\"carpet\":[{\"aaxis\":{\"endlinecolor\":\"#2a3f5f\",\"gridcolor\":\"white\",\"linecolor\":\"white\",\"minorgridcolor\":\"white\",\"startlinecolor\":\"#2a3f5f\"},\"baxis\":{\"endlinecolor\":\"#2a3f5f\",\"gridcolor\":\"white\",\"linecolor\":\"white\",\"minorgridcolor\":\"white\",\"startlinecolor\":\"#2a3f5f\"},\"type\":\"carpet\"}],\"table\":[{\"cells\":{\"fill\":{\"color\":\"#EBF0F8\"},\"line\":{\"color\":\"white\"}},\"header\":{\"fill\":{\"color\":\"#C8D4E3\"},\"line\":{\"color\":\"white\"}},\"type\":\"table\"}],\"barpolar\":[{\"marker\":{\"line\":{\"color\":\"#E5ECF6\",\"width\":0.5},\"pattern\":{\"fillmode\":\"overlay\",\"size\":10,\"solidity\":0.2}},\"type\":\"barpolar\"}],\"pie\":[{\"automargin\":true,\"type\":\"pie\"}]},\"layout\":{\"autotypenumbers\":\"strict\",\"colorway\":[\"#636efa\",\"#EF553B\",\"#00cc96\",\"#ab63fa\",\"#FFA15A\",\"#19d3f3\",\"#FF6692\",\"#B6E880\",\"#FF97FF\",\"#FECB52\"],\"font\":{\"color\":\"#2a3f5f\"},\"hovermode\":\"closest\",\"hoverlabel\":{\"align\":\"left\"},\"paper_bgcolor\":\"white\",\"plot_bgcolor\":\"#E5ECF6\",\"polar\":{\"bgcolor\":\"#E5ECF6\",\"angularaxis\":{\"gridcolor\":\"white\",\"linecolor\":\"white\",\"ticks\":\"\"},\"radialaxis\":{\"gridcolor\":\"white\",\"linecolor\":\"white\",\"ticks\":\"\"}},\"ternary\":{\"bgcolor\":\"#E5ECF6\",\"aaxis\":{\"gridcolor\":\"white\",\"linecolor\":\"white\",\"ticks\":\"\"},\"baxis\":{\"gridcolor\":\"white\",\"linecolor\":\"white\",\"ticks\":\"\"},\"caxis\":{\"gridcolor\":\"white\",\"linecolor\":\"white\",\"ticks\":\"\"}},\"coloraxis\":{\"colorbar\":{\"outlinewidth\":0,\"ticks\":\"\"}},\"colorscale\":{\"sequential\":[[0.0,\"#0d0887\"],[0.1111111111111111,\"#46039f\"],[0.2222222222222222,\"#7201a8\"],[0.3333333333333333,\"#9c179e\"],[0.4444444444444444,\"#bd3786\"],[0.5555555555555556,\"#d8576b\"],[0.6666666666666666,\"#ed7953\"],[0.7777777777777778,\"#fb9f3a\"],[0.8888888888888888,\"#fdca26\"],[1.0,\"#f0f921\"]],\"sequentialminus\":[[0.0,\"#0d0887\"],[0.1111111111111111,\"#46039f\"],[0.2222222222222222,\"#7201a8\"],[0.3333333333333333,\"#9c179e\"],[0.4444444444444444,\"#bd3786\"],[0.5555555555555556,\"#d8576b\"],[0.6666666666666666,\"#ed7953\"],[0.7777777777777778,\"#fb9f3a\"],[0.8888888888888888,\"#fdca26\"],[1.0,\"#f0f921\"]],\"diverging\":[[0,\"#8e0152\"],[0.1,\"#c51b7d\"],[0.2,\"#de77ae\"],[0.3,\"#f1b6da\"],[0.4,\"#fde0ef\"],[0.5,\"#f7f7f7\"],[0.6,\"#e6f5d0\"],[0.7,\"#b8e186\"],[0.8,\"#7fbc41\"],[0.9,\"#4d9221\"],[1,\"#276419\"]]},\"xaxis\":{\"gridcolor\":\"white\",\"linecolor\":\"white\",\"ticks\":\"\",\"title\":{\"standoff\":15},\"zerolinecolor\":\"white\",\"automargin\":true,\"zerolinewidth\":2},\"yaxis\":{\"gridcolor\":\"white\",\"linecolor\":\"white\",\"ticks\":\"\",\"title\":{\"standoff\":15},\"zerolinecolor\":\"white\",\"automargin\":true,\"zerolinewidth\":2},\"scene\":{\"xaxis\":{\"backgroundcolor\":\"#E5ECF6\",\"gridcolor\":\"white\",\"linecolor\":\"white\",\"showbackground\":true,\"ticks\":\"\",\"zerolinecolor\":\"white\",\"gridwidth\":2},\"yaxis\":{\"backgroundcolor\":\"#E5ECF6\",\"gridcolor\":\"white\",\"linecolor\":\"white\",\"showbackground\":true,\"ticks\":\"\",\"zerolinecolor\":\"white\",\"gridwidth\":2},\"zaxis\":{\"backgroundcolor\":\"#E5ECF6\",\"gridcolor\":\"white\",\"linecolor\":\"white\",\"showbackground\":true,\"ticks\":\"\",\"zerolinecolor\":\"white\",\"gridwidth\":2}},\"shapedefaults\":{\"line\":{\"color\":\"#2a3f5f\"}},\"annotationdefaults\":{\"arrowcolor\":\"#2a3f5f\",\"arrowhead\":0,\"arrowwidth\":1},\"geo\":{\"bgcolor\":\"white\",\"landcolor\":\"#E5ECF6\",\"subunitcolor\":\"white\",\"showland\":true,\"showlakes\":true,\"lakecolor\":\"white\"},\"title\":{\"x\":0.05},\"mapbox\":{\"style\":\"light\"}}},\"xaxis\":{\"anchor\":\"y\",\"domain\":[0.0,1.0],\"matches\":\"x3\",\"showticklabels\":true,\"tickfont\":{\"size\":10},\"type\":\"date\",\"tickformat\":\"%b %d\",\"tickangle\":45},\"yaxis\":{\"anchor\":\"x\",\"domain\":[0.527,1.0],\"title\":{\"text\":\"Game Location\"},\"tickvals\":[0,1],\"ticktext\":[\"Away\",\"Home\"],\"range\":[-0.5,1.5]},\"xaxis2\":{\"anchor\":\"y2\",\"domain\":[0.0,1.0],\"matches\":\"x3\",\"showticklabels\":true,\"tickfont\":{\"size\":10},\"type\":\"date\",\"tickformat\":\"%b %d\",\"tickangle\":45},\"yaxis2\":{\"anchor\":\"x2\",\"domain\":[0.24200000000000002,0.457],\"title\":{\"text\":\"Travel Distance (km)\"}},\"xaxis3\":{\"anchor\":\"y3\",\"domain\":[0.0,1.0],\"tickfont\":{\"size\":10},\"type\":\"date\",\"tickformat\":\"%b %d\",\"tickangle\":45,\"showticklabels\":true,\"title\":{\"text\":\"Date\"}},\"yaxis3\":{\"anchor\":\"x3\",\"domain\":[0.0,0.17200000000000001],\"title\":{\"text\":\"Games in Last 6 Days\"}},\"annotations\":[{\"font\":{\"size\":16},\"showarrow\":false,\"text\":\"OKC Schedule Timeline — 2024–25 (80-game draft)\",\"x\":0.5,\"xanchor\":\"center\",\"xref\":\"paper\",\"y\":1.0,\"yanchor\":\"bottom\",\"yref\":\"paper\"},{\"font\":{\"size\":16},\"showarrow\":false,\"text\":\"Travel between consecutive games (km)\",\"x\":0.5,\"xanchor\":\"center\",\"xref\":\"paper\",\"y\":0.457,\"yanchor\":\"bottom\",\"yref\":\"paper\"},{\"font\":{\"size\":16},\"showarrow\":false,\"text\":\"Games in last 6 days (threshold at 4)\",\"x\":0.5,\"xanchor\":\"center\",\"xref\":\"paper\",\"y\":0.17200000000000001,\"yanchor\":\"bottom\",\"yref\":\"paper\"}],\"shapes\":[{\"fillcolor\":\"red\",\"line\":{\"width\":0},\"opacity\":0.08,\"type\":\"rect\",\"x0\":\"2024-11-03T12:00:00\",\"x1\":\"2024-11-04T12:00:00\",\"xref\":\"x\",\"y0\":0,\"y1\":1,\"yref\":\"y domain\"},{\"fillcolor\":\"red\",\"line\":{\"width\":0},\"opacity\":0.08,\"type\":\"rect\",\"x0\":\"2024-11-05T12:00:00\",\"x1\":\"2024-11-06T12:00:00\",\"xref\":\"x\",\"y0\":0,\"y1\":1,\"yref\":\"y domain\"},{\"fillcolor\":\"red\",\"line\":{\"width\":0},\"opacity\":0.08,\"type\":\"rect\",\"x0\":\"2024-11-10T12:00:00\",\"x1\":\"2024-11-11T12:00:00\",\"xref\":\"x\",\"y0\":0,\"y1\":1,\"yref\":\"y domain\"},{\"fillcolor\":\"red\",\"line\":{\"width\":0},\"opacity\":0.08,\"type\":\"rect\",\"x0\":\"2024-11-12T12:00:00\",\"x1\":\"2024-11-13T12:00:00\",\"xref\":\"x\",\"y0\":0,\"y1\":1,\"yref\":\"y domain\"},{\"fillcolor\":\"red\",\"line\":{\"width\":0},\"opacity\":0.08,\"type\":\"rect\",\"x0\":\"2024-11-14T12:00:00\",\"x1\":\"2024-11-15T12:00:00\",\"xref\":\"x\",\"y0\":0,\"y1\":1,\"yref\":\"y domain\"},{\"fillcolor\":\"red\",\"line\":{\"width\":0},\"opacity\":0.08,\"type\":\"rect\",\"x0\":\"2024-11-19T12:00:00\",\"x1\":\"2024-11-20T12:00:00\",\"xref\":\"x\",\"y0\":0,\"y1\":1,\"yref\":\"y domain\"},{\"fillcolor\":\"red\",\"line\":{\"width\":0},\"opacity\":0.08,\"type\":\"rect\",\"x0\":\"2024-12-30T12:00:00\",\"x1\":\"2024-12-31T12:00:00\",\"xref\":\"x\",\"y0\":0,\"y1\":1,\"yref\":\"y domain\"},{\"fillcolor\":\"red\",\"line\":{\"width\":0},\"opacity\":0.08,\"type\":\"rect\",\"x0\":\"2025-01-01T12:00:00\",\"x1\":\"2025-01-02T12:00:00\",\"xref\":\"x\",\"y0\":0,\"y1\":1,\"yref\":\"y domain\"},{\"fillcolor\":\"red\",\"line\":{\"width\":0},\"opacity\":0.08,\"type\":\"rect\",\"x0\":\"2025-01-02T12:00:00\",\"x1\":\"2025-01-03T12:00:00\",\"xref\":\"x\",\"y0\":0,\"y1\":1,\"yref\":\"y domain\"},{\"fillcolor\":\"red\",\"line\":{\"width\":0},\"opacity\":0.08,\"type\":\"rect\",\"x0\":\"2025-01-04T12:00:00\",\"x1\":\"2025-01-05T12:00:00\",\"xref\":\"x\",\"y0\":0,\"y1\":1,\"yref\":\"y domain\"},{\"fillcolor\":\"red\",\"line\":{\"width\":0},\"opacity\":0.08,\"type\":\"rect\",\"x0\":\"2025-01-16T12:00:00\",\"x1\":\"2025-01-17T12:00:00\",\"xref\":\"x\",\"y0\":0,\"y1\":1,\"yref\":\"y domain\"},{\"fillcolor\":\"red\",\"line\":{\"width\":0},\"opacity\":0.08,\"type\":\"rect\",\"x0\":\"2025-01-18T12:00:00\",\"x1\":\"2025-01-19T12:00:00\",\"xref\":\"x\",\"y0\":0,\"y1\":1,\"yref\":\"y domain\"},{\"fillcolor\":\"red\",\"line\":{\"width\":0},\"opacity\":0.08,\"type\":\"rect\",\"x0\":\"2025-02-07T12:00:00\",\"x1\":\"2025-02-08T12:00:00\",\"xref\":\"x\",\"y0\":0,\"y1\":1,\"yref\":\"y domain\"},{\"fillcolor\":\"red\",\"line\":{\"width\":0},\"opacity\":0.08,\"type\":\"rect\",\"x0\":\"2025-02-09T12:00:00\",\"x1\":\"2025-02-10T12:00:00\",\"xref\":\"x\",\"y0\":0,\"y1\":1,\"yref\":\"y domain\"},{\"fillcolor\":\"red\",\"line\":{\"width\":0},\"opacity\":0.08,\"type\":\"rect\",\"x0\":\"2025-02-11T12:00:00\",\"x1\":\"2025-02-12T12:00:00\",\"xref\":\"x\",\"y0\":0,\"y1\":1,\"yref\":\"y domain\"},{\"fillcolor\":\"red\",\"line\":{\"width\":0},\"opacity\":0.08,\"type\":\"rect\",\"x0\":\"2025-02-12T12:00:00\",\"x1\":\"2025-02-13T12:00:00\",\"xref\":\"x\",\"y0\":0,\"y1\":1,\"yref\":\"y domain\"},{\"fillcolor\":\"red\",\"line\":{\"width\":0},\"opacity\":0.08,\"type\":\"rect\",\"x0\":\"2025-02-25T12:00:00\",\"x1\":\"2025-02-26T12:00:00\",\"xref\":\"x\",\"y0\":0,\"y1\":1,\"yref\":\"y domain\"},{\"fillcolor\":\"red\",\"line\":{\"width\":0},\"opacity\":0.08,\"type\":\"rect\",\"x0\":\"2025-02-27T12:00:00\",\"x1\":\"2025-02-28T12:00:00\",\"xref\":\"x\",\"y0\":0,\"y1\":1,\"yref\":\"y domain\"},{\"fillcolor\":\"red\",\"line\":{\"width\":0},\"opacity\":0.08,\"type\":\"rect\",\"x0\":\"2025-03-02T12:00:00\",\"x1\":\"2025-03-03T12:00:00\",\"xref\":\"x\",\"y0\":0,\"y1\":1,\"yref\":\"y domain\"},{\"fillcolor\":\"red\",\"line\":{\"width\":0},\"opacity\":0.08,\"type\":\"rect\",\"x0\":\"2025-03-04T12:00:00\",\"x1\":\"2025-03-05T12:00:00\",\"xref\":\"x\",\"y0\":0,\"y1\":1,\"yref\":\"y domain\"},{\"fillcolor\":\"red\",\"line\":{\"width\":0},\"opacity\":0.08,\"type\":\"rect\",\"x0\":\"2025-03-06T12:00:00\",\"x1\":\"2025-03-07T12:00:00\",\"xref\":\"x\",\"y0\":0,\"y1\":1,\"yref\":\"y domain\"},{\"fillcolor\":\"red\",\"line\":{\"width\":0},\"opacity\":0.08,\"type\":\"rect\",\"x0\":\"2025-03-09T12:00:00\",\"x1\":\"2025-03-10T12:00:00\",\"xref\":\"x\",\"y0\":0,\"y1\":1,\"yref\":\"y domain\"},{\"fillcolor\":\"red\",\"line\":{\"width\":0},\"opacity\":0.08,\"type\":\"rect\",\"x0\":\"2025-03-11T12:00:00\",\"x1\":\"2025-03-12T12:00:00\",\"xref\":\"x\",\"y0\":0,\"y1\":1,\"yref\":\"y domain\"},{\"fillcolor\":\"red\",\"line\":{\"width\":0},\"opacity\":0.08,\"type\":\"rect\",\"x0\":\"2025-04-08T12:00:00\",\"x1\":\"2025-04-09T12:00:00\",\"xref\":\"x\",\"y0\":0,\"y1\":1,\"yref\":\"y domain\"},{\"fillcolor\":\"red\",\"line\":{\"width\":0},\"opacity\":0.08,\"type\":\"rect\",\"x0\":\"2025-04-10T12:00:00\",\"x1\":\"2025-04-11T12:00:00\",\"xref\":\"x\",\"y0\":0,\"y1\":1,\"yref\":\"y domain\"},{\"fillcolor\":\"red\",\"line\":{\"width\":0},\"opacity\":0.08,\"type\":\"rect\",\"x0\":\"2025-04-12T12:00:00\",\"x1\":\"2025-04-13T12:00:00\",\"xref\":\"x\",\"y0\":0,\"y1\":1,\"yref\":\"y domain\"},{\"line\":{\"color\":\"red\",\"dash\":\"dot\"},\"type\":\"line\",\"x0\":0,\"x1\":1,\"xref\":\"x3 domain\",\"y0\":4,\"y1\":4,\"yref\":\"y3\"}],\"margin\":{\"l\":90,\"r\":20,\"t\":60,\"b\":80},\"height\":840,\"showlegend\":false,\"hovermode\":\"x unified\"},                        {\"responsive\": true}                    ).then(function(){\n",
              "                            \n",
              "var gd = document.getElementById('405ebddc-f2d4-4055-98f3-c8add3ef6097');\n",
              "var x = new MutationObserver(function (mutations, observer) {{\n",
              "        var display = window.getComputedStyle(gd).display;\n",
              "        if (!display || display === 'none') {{\n",
              "            console.log([gd, 'removed!']);\n",
              "            Plotly.purge(gd);\n",
              "            observer.disconnect();\n",
              "        }}\n",
              "}});\n",
              "\n",
              "// Listen for the removal of the full notebook cells\n",
              "var notebookContainer = gd.closest('#notebook-container');\n",
              "if (notebookContainer) {{\n",
              "    x.observe(notebookContainer, {childList: true});\n",
              "}}\n",
              "\n",
              "// Listen for the clearing of the current output cell\n",
              "var outputEl = gd.closest('.output');\n",
              "if (outputEl) {{\n",
              "    x.observe(outputEl, {childList: true});\n",
              "}}\n",
              "\n",
              "                        })                };                            </script>        </div>\n",
              "</body>\n",
              "</html>"
            ]
          },
          "metadata": {}
        },
        {
          "output_type": "display_data",
          "data": {
            "text/html": [
              "<html>\n",
              "<head><meta charset=\"utf-8\" /></head>\n",
              "<body>\n",
              "    <div>            <script src=\"https://cdnjs.cloudflare.com/ajax/libs/mathjax/2.7.5/MathJax.js?config=TeX-AMS-MML_SVG\"></script><script type=\"text/javascript\">if (window.MathJax && window.MathJax.Hub && window.MathJax.Hub.Config) {window.MathJax.Hub.Config({SVG: {font: \"STIX-Web\"}});}</script>                <script type=\"text/javascript\">window.PlotlyConfig = {MathJaxConfig: 'local'};</script>\n",
              "        <script charset=\"utf-8\" src=\"https://cdn.plot.ly/plotly-2.35.2.min.js\"></script>                <div id=\"665014cc-a210-4830-b356-e8193f20523c\" class=\"plotly-graph-div\" style=\"height:840px; width:100%;\"></div>            <script type=\"text/javascript\">                                    window.PLOTLYENV=window.PLOTLYENV || {};                                    if (document.getElementById(\"665014cc-a210-4830-b356-e8193f20523c\")) {                    Plotly.newPlot(                        \"665014cc-a210-4830-b356-e8193f20523c\",                        [{\"hoverinfo\":\"text\",\"marker\":{\"color\":[\"blue\",\"blue\",\"orange\",\"orange\",\"orange\",\"blue\",\"blue\",\"blue\",\"blue\",\"blue\",\"orange\",\"orange\",\"orange\",\"blue\",\"orange\",\"blue\",\"orange\",\"orange\",\"blue\",\"orange\",\"orange\",\"orange\",\"orange\",\"orange\",\"blue\",\"orange\",\"blue\",\"blue\",\"orange\",\"blue\",\"blue\",\"orange\",\"blue\",\"blue\",\"blue\",\"orange\",\"orange\",\"blue\",\"orange\",\"orange\",\"blue\",\"blue\",\"orange\",\"orange\",\"orange\",\"orange\",\"orange\",\"blue\",\"blue\",\"blue\",\"orange\",\"blue\",\"blue\",\"blue\",\"blue\",\"orange\",\"orange\",\"orange\",\"orange\",\"blue\",\"blue\",\"orange\",\"orange\",\"blue\",\"blue\",\"blue\",\"orange\",\"orange\",\"orange\",\"orange\",\"blue\",\"blue\",\"blue\",\"blue\",\"blue\",\"orange\",\"blue\",\"orange\",\"blue\",\"orange\"],\"line\":{\"color\":\"black\",\"width\":1},\"size\":[6.0,6.0,13.438289988939434,7.90454397569216,11.64227133447812,9.86675784045567,6.0,6.0,6.0,6.0,11.985690076546945,7.984875607964307,6.0,10.864958658547216,10.599006479325645,10.599006479325645,8.049028747004444,9.216431294580495,10.599006479325645,12.782364006881526,7.686924484144324,9.003365057208487,18.0,17.40111283349227,11.985690076546945,9.240683078186509,9.240683078186509,6.0,8.049028747004444,8.049028747004444,6.0,10.453878382087545,10.453878382087545,6.0,6.0,9.667420251543518,6.0,9.667420251543518,15.553287808672506,7.130655950597377,14.580871065095655,6.0,9.86675784045567,7.955338905872643,9.949675089366226,6.472907992572813,8.479134809387018,13.511611665379865,6.0,6.0,9.240683078186509,9.240683078186509,6.0,6.0,6.0,11.53322316979302,7.352303763788976,7.3927993972318555,9.387016459080463,15.776304088123146,6.0,8.798478460239945,6.0,8.798478460239945,6.0,6.0,11.230349799512586,7.91246330551553,10.578673597786128,16.155183880714894,10.873261154646663,6.0,6.0,6.0,6.0,11.230349799512586,11.230349799512586,10.90419565953831,10.90419565953831,10.873261154646663],\"symbol\":[\"circle\",\"circle\",\"circle\",\"diamond\",\"circle\",\"diamond\",\"circle\",\"circle\",\"circle\",\"circle\",\"circle\",\"circle\",\"circle\",\"circle\",\"diamond\",\"circle\",\"circle\",\"circle\",\"circle\",\"circle\",\"circle\",\"diamond\",\"circle\",\"circle\",\"diamond\",\"circle\",\"circle\",\"diamond\",\"circle\",\"circle\",\"circle\",\"diamond\",\"circle\",\"diamond\",\"circle\",\"circle\",\"circle\",\"diamond\",\"circle\",\"circle\",\"circle\",\"circle\",\"circle\",\"circle\",\"circle\",\"circle\",\"diamond\",\"circle\",\"circle\",\"diamond\",\"circle\",\"circle\",\"circle\",\"circle\",\"circle\",\"circle\",\"circle\",\"diamond\",\"circle\",\"circle\",\"circle\",\"circle\",\"diamond\",\"circle\",\"circle\",\"diamond\",\"circle\",\"circle\",\"circle\",\"circle\",\"diamond\",\"circle\",\"circle\",\"circle\",\"diamond\",\"circle\",\"circle\",\"circle\",\"circle\",\"circle\"]},\"mode\":\"markers\",\"name\":\"Game\",\"text\":[\"DEN vs OKC on 2024-10-24\\u003cbr\\u003eHome | travel 0 km\\u003cbr\\u003e\",\"DEN vs LAC on 2024-10-26\\u003cbr\\u003eHome | travel 0 km\\u003cbr\\u003e\",\"DEN vs TOR on 2024-10-28\\u003cbr\\u003eAway | travel 2162 km\\u003cbr\\u003e\",\"DEN vs BKN on 2024-10-29\\u003cbr\\u003eAway | travel 554 km\\u003cbr\\u003eB2B 4-in-6 3-in-4\",\"DEN vs MIN on 2024-11-01\\u003cbr\\u003eAway | travel 1640 km\\u003cbr\\u003e\",\"DEN vs UTA on 2024-11-02\\u003cbr\\u003eHome | travel 1124 km\\u003cbr\\u003eB2B 4-in-6 \",\"DEN vs TOR on 2024-11-04\\u003cbr\\u003eHome | travel 0 km\\u003cbr\\u003e3-in-4\",\"DEN vs OKC on 2024-11-06\\u003cbr\\u003eHome | travel 0 km\\u003cbr\\u003e4-in-6 \",\"DEN vs MIA on 2024-11-08\\u003cbr\\u003eHome | travel 0 km\\u003cbr\\u003e\",\"DEN vs DAL on 2024-11-10\\u003cbr\\u003eHome | travel 0 km\\u003cbr\\u003e\",\"DEN vs NOP on 2024-11-15\\u003cbr\\u003eAway | travel 1740 km\\u003cbr\\u003e\",\"DEN vs MEM on 2024-11-17\\u003cbr\\u003eAway | travel 577 km\\u003cbr\\u003e\",\"DEN vs MEM on 2024-11-19\\u003cbr\\u003eAway | travel 0 km\\u003cbr\\u003e\",\"DEN vs DAL on 2024-11-22\\u003cbr\\u003eHome | travel 1414 km\\u003cbr\\u003e\",\"DEN vs LAL on 2024-11-23\\u003cbr\\u003eAway | travel 1337 km\\u003cbr\\u003eB2B \",\"DEN vs NYK on 2024-11-25\\u003cbr\\u003eHome | travel 1337 km\\u003cbr\\u003e3-in-4\",\"DEN vs UTA on 2024-11-27\\u003cbr\\u003eAway | travel 596 km\\u003cbr\\u003e4-in-6 \",\"DEN vs LAC on 2024-12-01\\u003cbr\\u003eAway | travel 935 km\\u003cbr\\u003e\",\"DEN vs GSW on 2024-12-03\\u003cbr\\u003eHome | travel 1337 km\\u003cbr\\u003e\",\"DEN vs CLE on 2024-12-05\\u003cbr\\u003eAway | travel 1972 km\\u003cbr\\u003e\",\"DEN vs WAS on 2024-12-07\\u003cbr\\u003eAway | travel 490 km\\u003cbr\\u003e\",\"DEN vs ATL on 2024-12-08\\u003cbr\\u003eAway | travel 873 km\\u003cbr\\u003eB2B 4-in-6 3-in-4\",\"DEN vs POR on 2024-12-19\\u003cbr\\u003eAway | travel 3489 km\\u003cbr\\u003e\",\"DEN vs NOP on 2024-12-22\\u003cbr\\u003eAway | travel 3314 km\\u003cbr\\u003e\",\"DEN vs PHX on 2024-12-23\\u003cbr\\u003eHome | travel 1740 km\\u003cbr\\u003eB2B \",\"DEN vs PHX on 2024-12-25\\u003cbr\\u003eAway | travel 942 km\\u003cbr\\u003e3-in-4\",\"DEN vs CLE on 2024-12-27\\u003cbr\\u003eHome | travel 942 km\\u003cbr\\u003e4-in-6 \",\"DEN vs DET on 2024-12-28\\u003cbr\\u003eHome | travel 0 km\\u003cbr\\u003eB2B 4-in-6 3-in-4\",\"DEN vs UTA on 2024-12-30\\u003cbr\\u003eAway | travel 596 km\\u003cbr\\u003e4-in-6 3-in-4\",\"DEN vs ATL on 2025-01-01\\u003cbr\\u003eHome | travel 596 km\\u003cbr\\u003e4-in-6 \",\"DEN vs SAS on 2025-01-03\\u003cbr\\u003eHome | travel 0 km\\u003cbr\\u003e\",\"DEN vs SAS on 2025-01-04\\u003cbr\\u003eAway | travel 1295 km\\u003cbr\\u003eB2B 4-in-6 3-in-4\",\"DEN vs BOS on 2025-01-07\\u003cbr\\u003eHome | travel 1295 km\\u003cbr\\u003e\",\"DEN vs LAC on 2025-01-08\\u003cbr\\u003eHome | travel 0 km\\u003cbr\\u003eB2B 4-in-6 \",\"DEN vs BKN on 2025-01-10\\u003cbr\\u003eHome | travel 0 km\\u003cbr\\u003e3-in-4\",\"DEN vs DAL on 2025-01-12\\u003cbr\\u003eAway | travel 1066 km\\u003cbr\\u003e4-in-6 \",\"DEN vs DAL on 2025-01-14\\u003cbr\\u003eAway | travel 0 km\\u003cbr\\u003e\",\"DEN vs HOU on 2025-01-15\\u003cbr\\u003eHome | travel 1066 km\\u003cbr\\u003eB2B 4-in-6 3-in-4\",\"DEN vs MIA on 2025-01-17\\u003cbr\\u003eAway | travel 2777 km\\u003cbr\\u003e4-in-6 3-in-4\",\"DEN vs ORL on 2025-01-19\\u003cbr\\u003eAway | travel 329 km\\u003cbr\\u003e4-in-6 \",\"DEN vs PHI on 2025-01-21\\u003cbr\\u003eHome | travel 2495 km\\u003cbr\\u003e\",\"DEN vs SAC on 2025-01-23\\u003cbr\\u003eHome | travel 0 km\\u003cbr\\u003e\",\"DEN vs MIN on 2025-01-25\\u003cbr\\u003eAway | travel 1124 km\\u003cbr\\u003e\",\"DEN vs CHI on 2025-01-27\\u003cbr\\u003eAway | travel 568 km\\u003cbr\\u003e\",\"DEN vs NYK on 2025-01-29\\u003cbr\\u003eAway | travel 1148 km\\u003cbr\\u003e\",\"DEN vs PHI on 2025-01-31\\u003cbr\\u003eAway | travel 137 km\\u003cbr\\u003e\",\"DEN vs CHA on 2025-02-01\\u003cbr\\u003eAway | travel 721 km\\u003cbr\\u003eB2B 4-in-6 3-in-4\",\"DEN vs NOP on 2025-02-03\\u003cbr\\u003eHome | travel 2184 km\\u003cbr\\u003e4-in-6 3-in-4\",\"DEN vs NOP on 2025-02-05\\u003cbr\\u003eHome | travel 0 km\\u003cbr\\u003e4-in-6 \",\"DEN vs ORL on 2025-02-06\\u003cbr\\u003eHome | travel 0 km\\u003cbr\\u003eB2B 4-in-6 3-in-4\",\"DEN vs PHX on 2025-02-08\\u003cbr\\u003eAway | travel 942 km\\u003cbr\\u003e4-in-6 3-in-4\",\"DEN vs POR on 2025-02-10\\u003cbr\\u003eHome | travel 942 km\\u003cbr\\u003e4-in-6 \",\"DEN vs POR on 2025-02-12\\u003cbr\\u003eHome | travel 0 km\\u003cbr\\u003e\",\"DEN vs CHA on 2025-02-20\\u003cbr\\u003eHome | travel 0 km\\u003cbr\\u003e\",\"DEN vs LAL on 2025-02-22\\u003cbr\\u003eHome | travel 0 km\\u003cbr\\u003e\",\"DEN vs IND on 2025-02-24\\u003cbr\\u003eAway | travel 1609 km\\u003cbr\\u003e\",\"DEN vs MIL on 2025-02-27\\u003cbr\\u003eAway | travel 393 km\\u003cbr\\u003e\",\"DEN vs DET on 2025-02-28\\u003cbr\\u003eAway | travel 405 km\\u003cbr\\u003eB2B \",\"DEN vs BOS on 2025-03-02\\u003cbr\\u003eAway | travel 985 km\\u003cbr\\u003e3-in-4\",\"DEN vs SAC on 2025-03-05\\u003cbr\\u003eHome | travel 2842 km\\u003cbr\\u003e\",\"DEN vs PHX on 2025-03-07\\u003cbr\\u003eHome | travel 0 km\\u003cbr\\u003e\",\"DEN vs OKC on 2025-03-09\\u003cbr\\u003eAway | travel 814 km\\u003cbr\\u003e\",\"DEN vs OKC on 2025-03-10\\u003cbr\\u003eAway | travel 0 km\\u003cbr\\u003eB2B 4-in-6 3-in-4\",\"DEN vs MIN on 2025-03-12\\u003cbr\\u003eHome | travel 814 km\\u003cbr\\u003e4-in-6 3-in-4\",\"DEN vs LAL on 2025-03-14\\u003cbr\\u003eHome | travel 0 km\\u003cbr\\u003e4-in-6 \",\"DEN vs WAS on 2025-03-15\\u003cbr\\u003eHome | travel 0 km\\u003cbr\\u003eB2B 4-in-6 3-in-4\",\"DEN vs GSW on 2025-03-17\\u003cbr\\u003eAway | travel 1521 km\\u003cbr\\u003e4-in-6 3-in-4\",\"DEN vs LAL on 2025-03-19\\u003cbr\\u003eAway | travel 556 km\\u003cbr\\u003e4-in-6 \",\"DEN vs POR on 2025-03-21\\u003cbr\\u003eAway | travel 1331 km\\u003cbr\\u003e\",\"DEN vs HOU on 2025-03-23\\u003cbr\\u003eAway | travel 2952 km\\u003cbr\\u003e\",\"DEN vs CHI on 2025-03-24\\u003cbr\\u003eHome | travel 1417 km\\u003cbr\\u003eB2B 4-in-6 3-in-4\",\"DEN vs MIL on 2025-03-26\\u003cbr\\u003eHome | travel 0 km\\u003cbr\\u003e4-in-6 3-in-4\",\"DEN vs UTA on 2025-03-28\\u003cbr\\u003eHome | travel 0 km\\u003cbr\\u003e4-in-6 \",\"DEN vs MIN on 2025-04-01\\u003cbr\\u003eHome | travel 0 km\\u003cbr\\u003e\",\"DEN vs SAS on 2025-04-02\\u003cbr\\u003eHome | travel 0 km\\u003cbr\\u003eB2B \",\"DEN vs GSW on 2025-04-04\\u003cbr\\u003eAway | travel 1521 km\\u003cbr\\u003e3-in-4\",\"DEN vs IND on 2025-04-06\\u003cbr\\u003eHome | travel 1521 km\\u003cbr\\u003e4-in-6 \",\"DEN vs SAC on 2025-04-09\\u003cbr\\u003eAway | travel 1426 km\\u003cbr\\u003e\",\"DEN vs MEM on 2025-04-11\\u003cbr\\u003eHome | travel 1426 km\\u003cbr\\u003e\",\"DEN vs HOU on 2025-04-13\\u003cbr\\u003eAway | travel 1417 km\\u003cbr\\u003e\"],\"x\":[\"2024-10-24T00:00:00\",\"2024-10-26T00:00:00\",\"2024-10-28T00:00:00\",\"2024-10-29T00:00:00\",\"2024-11-01T00:00:00\",\"2024-11-02T00:00:00\",\"2024-11-04T00:00:00\",\"2024-11-06T00:00:00\",\"2024-11-08T00:00:00\",\"2024-11-10T00:00:00\",\"2024-11-15T00:00:00\",\"2024-11-17T00:00:00\",\"2024-11-19T00:00:00\",\"2024-11-22T00:00:00\",\"2024-11-23T00:00:00\",\"2024-11-25T00:00:00\",\"2024-11-27T00:00:00\",\"2024-12-01T00:00:00\",\"2024-12-03T00:00:00\",\"2024-12-05T00:00:00\",\"2024-12-07T00:00:00\",\"2024-12-08T00:00:00\",\"2024-12-19T00:00:00\",\"2024-12-22T00:00:00\",\"2024-12-23T00:00:00\",\"2024-12-25T00:00:00\",\"2024-12-27T00:00:00\",\"2024-12-28T00:00:00\",\"2024-12-30T00:00:00\",\"2025-01-01T00:00:00\",\"2025-01-03T00:00:00\",\"2025-01-04T00:00:00\",\"2025-01-07T00:00:00\",\"2025-01-08T00:00:00\",\"2025-01-10T00:00:00\",\"2025-01-12T00:00:00\",\"2025-01-14T00:00:00\",\"2025-01-15T00:00:00\",\"2025-01-17T00:00:00\",\"2025-01-19T00:00:00\",\"2025-01-21T00:00:00\",\"2025-01-23T00:00:00\",\"2025-01-25T00:00:00\",\"2025-01-27T00:00:00\",\"2025-01-29T00:00:00\",\"2025-01-31T00:00:00\",\"2025-02-01T00:00:00\",\"2025-02-03T00:00:00\",\"2025-02-05T00:00:00\",\"2025-02-06T00:00:00\",\"2025-02-08T00:00:00\",\"2025-02-10T00:00:00\",\"2025-02-12T00:00:00\",\"2025-02-20T00:00:00\",\"2025-02-22T00:00:00\",\"2025-02-24T00:00:00\",\"2025-02-27T00:00:00\",\"2025-02-28T00:00:00\",\"2025-03-02T00:00:00\",\"2025-03-05T00:00:00\",\"2025-03-07T00:00:00\",\"2025-03-09T00:00:00\",\"2025-03-10T00:00:00\",\"2025-03-12T00:00:00\",\"2025-03-14T00:00:00\",\"2025-03-15T00:00:00\",\"2025-03-17T00:00:00\",\"2025-03-19T00:00:00\",\"2025-03-21T00:00:00\",\"2025-03-23T00:00:00\",\"2025-03-24T00:00:00\",\"2025-03-26T00:00:00\",\"2025-03-28T00:00:00\",\"2025-04-01T00:00:00\",\"2025-04-02T00:00:00\",\"2025-04-04T00:00:00\",\"2025-04-06T00:00:00\",\"2025-04-09T00:00:00\",\"2025-04-11T00:00:00\",\"2025-04-13T00:00:00\"],\"y\":[1,1,0,0,0,1,1,1,1,1,0,0,0,1,0,1,0,0,1,0,0,0,0,0,1,0,1,1,0,1,1,0,1,1,1,0,0,1,0,0,1,1,0,0,0,0,0,1,1,1,0,1,1,1,1,0,0,0,0,1,1,0,0,1,1,1,0,0,0,0,1,1,1,1,1,0,1,0,1,0],\"type\":\"scatter\",\"xaxis\":\"x\",\"yaxis\":\"y\"},{\"name\":\"Travel (km)\",\"x\":[\"2024-10-24T00:00:00\",\"2024-10-26T00:00:00\",\"2024-10-28T00:00:00\",\"2024-10-29T00:00:00\",\"2024-11-01T00:00:00\",\"2024-11-02T00:00:00\",\"2024-11-04T00:00:00\",\"2024-11-06T00:00:00\",\"2024-11-08T00:00:00\",\"2024-11-10T00:00:00\",\"2024-11-15T00:00:00\",\"2024-11-17T00:00:00\",\"2024-11-19T00:00:00\",\"2024-11-22T00:00:00\",\"2024-11-23T00:00:00\",\"2024-11-25T00:00:00\",\"2024-11-27T00:00:00\",\"2024-12-01T00:00:00\",\"2024-12-03T00:00:00\",\"2024-12-05T00:00:00\",\"2024-12-07T00:00:00\",\"2024-12-08T00:00:00\",\"2024-12-19T00:00:00\",\"2024-12-22T00:00:00\",\"2024-12-23T00:00:00\",\"2024-12-25T00:00:00\",\"2024-12-27T00:00:00\",\"2024-12-28T00:00:00\",\"2024-12-30T00:00:00\",\"2025-01-01T00:00:00\",\"2025-01-03T00:00:00\",\"2025-01-04T00:00:00\",\"2025-01-07T00:00:00\",\"2025-01-08T00:00:00\",\"2025-01-10T00:00:00\",\"2025-01-12T00:00:00\",\"2025-01-14T00:00:00\",\"2025-01-15T00:00:00\",\"2025-01-17T00:00:00\",\"2025-01-19T00:00:00\",\"2025-01-21T00:00:00\",\"2025-01-23T00:00:00\",\"2025-01-25T00:00:00\",\"2025-01-27T00:00:00\",\"2025-01-29T00:00:00\",\"2025-01-31T00:00:00\",\"2025-02-01T00:00:00\",\"2025-02-03T00:00:00\",\"2025-02-05T00:00:00\",\"2025-02-06T00:00:00\",\"2025-02-08T00:00:00\",\"2025-02-10T00:00:00\",\"2025-02-12T00:00:00\",\"2025-02-20T00:00:00\",\"2025-02-22T00:00:00\",\"2025-02-24T00:00:00\",\"2025-02-27T00:00:00\",\"2025-02-28T00:00:00\",\"2025-03-02T00:00:00\",\"2025-03-05T00:00:00\",\"2025-03-07T00:00:00\",\"2025-03-09T00:00:00\",\"2025-03-10T00:00:00\",\"2025-03-12T00:00:00\",\"2025-03-14T00:00:00\",\"2025-03-15T00:00:00\",\"2025-03-17T00:00:00\",\"2025-03-19T00:00:00\",\"2025-03-21T00:00:00\",\"2025-03-23T00:00:00\",\"2025-03-24T00:00:00\",\"2025-03-26T00:00:00\",\"2025-03-28T00:00:00\",\"2025-04-01T00:00:00\",\"2025-04-02T00:00:00\",\"2025-04-04T00:00:00\",\"2025-04-06T00:00:00\",\"2025-04-09T00:00:00\",\"2025-04-11T00:00:00\",\"2025-04-13T00:00:00\"],\"y\":[0.0,0.0,2162.3783829769227,553.6682125313125,1640.2594659132735,1124.1015850203564,0.0,0.0,0.0,0.0,1740.0944098671907,577.0213468340678,0.0,1414.2876189233991,1336.9729075973453,1336.9729075973453,595.6712463764067,935.0457581075054,1336.9729075973453,1971.6947491653882,490.4042520058147,873.1054698798946,3488.508868880879,3314.4069362291157,1740.0944098671907,942.0959716238185,942.0959716238185,0.0,595.6712463764067,595.6712463764067,0.0,1294.7828530691015,1294.7828530691015,0.0,0.0,1066.152339451909,0.0,1066.152339451909,2777.2274372938014,328.69194260932414,2494.5370677757924,0.0,1124.1015850203564,568.4347595670457,1148.206381537663,137.47864385457567,720.7069808081599,2183.6936595222273,0.0,0.0,942.0959716238185,942.0959716238185,0.0,0.0,0.0,1608.55817511001,393.12697278323645,404.8994208179393,984.6364130456426,2842.060293024499,0.0,813.5430773265962,0.0,813.5430773265962,0.0,0.0,1520.510138579082,555.9704335583473,1331.0619544656363,2952.2040860825045,1416.7012298631298,0.0,0.0,0.0,0.0,1520.510138579082,1520.510138579082,1425.6941710855424,1425.6941710855424,1416.7012298631298],\"type\":\"bar\",\"xaxis\":\"x2\",\"yaxis\":\"y2\"},{\"mode\":\"lines+markers\",\"name\":\"Games last 6 days\",\"x\":[\"2024-10-24T00:00:00\",\"2024-10-26T00:00:00\",\"2024-10-28T00:00:00\",\"2024-10-29T00:00:00\",\"2024-11-01T00:00:00\",\"2024-11-02T00:00:00\",\"2024-11-04T00:00:00\",\"2024-11-06T00:00:00\",\"2024-11-08T00:00:00\",\"2024-11-10T00:00:00\",\"2024-11-15T00:00:00\",\"2024-11-17T00:00:00\",\"2024-11-19T00:00:00\",\"2024-11-22T00:00:00\",\"2024-11-23T00:00:00\",\"2024-11-25T00:00:00\",\"2024-11-27T00:00:00\",\"2024-12-01T00:00:00\",\"2024-12-03T00:00:00\",\"2024-12-05T00:00:00\",\"2024-12-07T00:00:00\",\"2024-12-08T00:00:00\",\"2024-12-19T00:00:00\",\"2024-12-22T00:00:00\",\"2024-12-23T00:00:00\",\"2024-12-25T00:00:00\",\"2024-12-27T00:00:00\",\"2024-12-28T00:00:00\",\"2024-12-30T00:00:00\",\"2025-01-01T00:00:00\",\"2025-01-03T00:00:00\",\"2025-01-04T00:00:00\",\"2025-01-07T00:00:00\",\"2025-01-08T00:00:00\",\"2025-01-10T00:00:00\",\"2025-01-12T00:00:00\",\"2025-01-14T00:00:00\",\"2025-01-15T00:00:00\",\"2025-01-17T00:00:00\",\"2025-01-19T00:00:00\",\"2025-01-21T00:00:00\",\"2025-01-23T00:00:00\",\"2025-01-25T00:00:00\",\"2025-01-27T00:00:00\",\"2025-01-29T00:00:00\",\"2025-01-31T00:00:00\",\"2025-02-01T00:00:00\",\"2025-02-03T00:00:00\",\"2025-02-05T00:00:00\",\"2025-02-06T00:00:00\",\"2025-02-08T00:00:00\",\"2025-02-10T00:00:00\",\"2025-02-12T00:00:00\",\"2025-02-20T00:00:00\",\"2025-02-22T00:00:00\",\"2025-02-24T00:00:00\",\"2025-02-27T00:00:00\",\"2025-02-28T00:00:00\",\"2025-03-02T00:00:00\",\"2025-03-05T00:00:00\",\"2025-03-07T00:00:00\",\"2025-03-09T00:00:00\",\"2025-03-10T00:00:00\",\"2025-03-12T00:00:00\",\"2025-03-14T00:00:00\",\"2025-03-15T00:00:00\",\"2025-03-17T00:00:00\",\"2025-03-19T00:00:00\",\"2025-03-21T00:00:00\",\"2025-03-23T00:00:00\",\"2025-03-24T00:00:00\",\"2025-03-26T00:00:00\",\"2025-03-28T00:00:00\",\"2025-04-01T00:00:00\",\"2025-04-02T00:00:00\",\"2025-04-04T00:00:00\",\"2025-04-06T00:00:00\",\"2025-04-09T00:00:00\",\"2025-04-11T00:00:00\",\"2025-04-13T00:00:00\"],\"y\":[1,2,3,4,3,4,3,4,3,3,2,2,3,3,3,3,4,2,2,3,3,4,1,2,3,3,4,4,4,4,3,4,3,4,3,4,3,4,4,4,3,3,3,3,3,3,4,4,4,4,4,4,3,1,2,3,3,3,3,3,3,3,4,4,4,4,4,4,3,3,4,4,4,2,3,3,4,3,3,3],\"type\":\"scatter\",\"xaxis\":\"x3\",\"yaxis\":\"y3\"}],                        {\"template\":{\"data\":{\"histogram2dcontour\":[{\"type\":\"histogram2dcontour\",\"colorbar\":{\"outlinewidth\":0,\"ticks\":\"\"},\"colorscale\":[[0.0,\"#0d0887\"],[0.1111111111111111,\"#46039f\"],[0.2222222222222222,\"#7201a8\"],[0.3333333333333333,\"#9c179e\"],[0.4444444444444444,\"#bd3786\"],[0.5555555555555556,\"#d8576b\"],[0.6666666666666666,\"#ed7953\"],[0.7777777777777778,\"#fb9f3a\"],[0.8888888888888888,\"#fdca26\"],[1.0,\"#f0f921\"]]}],\"choropleth\":[{\"type\":\"choropleth\",\"colorbar\":{\"outlinewidth\":0,\"ticks\":\"\"}}],\"histogram2d\":[{\"type\":\"histogram2d\",\"colorbar\":{\"outlinewidth\":0,\"ticks\":\"\"},\"colorscale\":[[0.0,\"#0d0887\"],[0.1111111111111111,\"#46039f\"],[0.2222222222222222,\"#7201a8\"],[0.3333333333333333,\"#9c179e\"],[0.4444444444444444,\"#bd3786\"],[0.5555555555555556,\"#d8576b\"],[0.6666666666666666,\"#ed7953\"],[0.7777777777777778,\"#fb9f3a\"],[0.8888888888888888,\"#fdca26\"],[1.0,\"#f0f921\"]]}],\"heatmap\":[{\"type\":\"heatmap\",\"colorbar\":{\"outlinewidth\":0,\"ticks\":\"\"},\"colorscale\":[[0.0,\"#0d0887\"],[0.1111111111111111,\"#46039f\"],[0.2222222222222222,\"#7201a8\"],[0.3333333333333333,\"#9c179e\"],[0.4444444444444444,\"#bd3786\"],[0.5555555555555556,\"#d8576b\"],[0.6666666666666666,\"#ed7953\"],[0.7777777777777778,\"#fb9f3a\"],[0.8888888888888888,\"#fdca26\"],[1.0,\"#f0f921\"]]}],\"heatmapgl\":[{\"type\":\"heatmapgl\",\"colorbar\":{\"outlinewidth\":0,\"ticks\":\"\"},\"colorscale\":[[0.0,\"#0d0887\"],[0.1111111111111111,\"#46039f\"],[0.2222222222222222,\"#7201a8\"],[0.3333333333333333,\"#9c179e\"],[0.4444444444444444,\"#bd3786\"],[0.5555555555555556,\"#d8576b\"],[0.6666666666666666,\"#ed7953\"],[0.7777777777777778,\"#fb9f3a\"],[0.8888888888888888,\"#fdca26\"],[1.0,\"#f0f921\"]]}],\"contourcarpet\":[{\"type\":\"contourcarpet\",\"colorbar\":{\"outlinewidth\":0,\"ticks\":\"\"}}],\"contour\":[{\"type\":\"contour\",\"colorbar\":{\"outlinewidth\":0,\"ticks\":\"\"},\"colorscale\":[[0.0,\"#0d0887\"],[0.1111111111111111,\"#46039f\"],[0.2222222222222222,\"#7201a8\"],[0.3333333333333333,\"#9c179e\"],[0.4444444444444444,\"#bd3786\"],[0.5555555555555556,\"#d8576b\"],[0.6666666666666666,\"#ed7953\"],[0.7777777777777778,\"#fb9f3a\"],[0.8888888888888888,\"#fdca26\"],[1.0,\"#f0f921\"]]}],\"surface\":[{\"type\":\"surface\",\"colorbar\":{\"outlinewidth\":0,\"ticks\":\"\"},\"colorscale\":[[0.0,\"#0d0887\"],[0.1111111111111111,\"#46039f\"],[0.2222222222222222,\"#7201a8\"],[0.3333333333333333,\"#9c179e\"],[0.4444444444444444,\"#bd3786\"],[0.5555555555555556,\"#d8576b\"],[0.6666666666666666,\"#ed7953\"],[0.7777777777777778,\"#fb9f3a\"],[0.8888888888888888,\"#fdca26\"],[1.0,\"#f0f921\"]]}],\"mesh3d\":[{\"type\":\"mesh3d\",\"colorbar\":{\"outlinewidth\":0,\"ticks\":\"\"}}],\"scatter\":[{\"fillpattern\":{\"fillmode\":\"overlay\",\"size\":10,\"solidity\":0.2},\"type\":\"scatter\"}],\"parcoords\":[{\"type\":\"parcoords\",\"line\":{\"colorbar\":{\"outlinewidth\":0,\"ticks\":\"\"}}}],\"scatterpolargl\":[{\"type\":\"scatterpolargl\",\"marker\":{\"colorbar\":{\"outlinewidth\":0,\"ticks\":\"\"}}}],\"bar\":[{\"error_x\":{\"color\":\"#2a3f5f\"},\"error_y\":{\"color\":\"#2a3f5f\"},\"marker\":{\"line\":{\"color\":\"#E5ECF6\",\"width\":0.5},\"pattern\":{\"fillmode\":\"overlay\",\"size\":10,\"solidity\":0.2}},\"type\":\"bar\"}],\"scattergeo\":[{\"type\":\"scattergeo\",\"marker\":{\"colorbar\":{\"outlinewidth\":0,\"ticks\":\"\"}}}],\"scatterpolar\":[{\"type\":\"scatterpolar\",\"marker\":{\"colorbar\":{\"outlinewidth\":0,\"ticks\":\"\"}}}],\"histogram\":[{\"marker\":{\"pattern\":{\"fillmode\":\"overlay\",\"size\":10,\"solidity\":0.2}},\"type\":\"histogram\"}],\"scattergl\":[{\"type\":\"scattergl\",\"marker\":{\"colorbar\":{\"outlinewidth\":0,\"ticks\":\"\"}}}],\"scatter3d\":[{\"type\":\"scatter3d\",\"line\":{\"colorbar\":{\"outlinewidth\":0,\"ticks\":\"\"}},\"marker\":{\"colorbar\":{\"outlinewidth\":0,\"ticks\":\"\"}}}],\"scattermapbox\":[{\"type\":\"scattermapbox\",\"marker\":{\"colorbar\":{\"outlinewidth\":0,\"ticks\":\"\"}}}],\"scatterternary\":[{\"type\":\"scatterternary\",\"marker\":{\"colorbar\":{\"outlinewidth\":0,\"ticks\":\"\"}}}],\"scattercarpet\":[{\"type\":\"scattercarpet\",\"marker\":{\"colorbar\":{\"outlinewidth\":0,\"ticks\":\"\"}}}],\"carpet\":[{\"aaxis\":{\"endlinecolor\":\"#2a3f5f\",\"gridcolor\":\"white\",\"linecolor\":\"white\",\"minorgridcolor\":\"white\",\"startlinecolor\":\"#2a3f5f\"},\"baxis\":{\"endlinecolor\":\"#2a3f5f\",\"gridcolor\":\"white\",\"linecolor\":\"white\",\"minorgridcolor\":\"white\",\"startlinecolor\":\"#2a3f5f\"},\"type\":\"carpet\"}],\"table\":[{\"cells\":{\"fill\":{\"color\":\"#EBF0F8\"},\"line\":{\"color\":\"white\"}},\"header\":{\"fill\":{\"color\":\"#C8D4E3\"},\"line\":{\"color\":\"white\"}},\"type\":\"table\"}],\"barpolar\":[{\"marker\":{\"line\":{\"color\":\"#E5ECF6\",\"width\":0.5},\"pattern\":{\"fillmode\":\"overlay\",\"size\":10,\"solidity\":0.2}},\"type\":\"barpolar\"}],\"pie\":[{\"automargin\":true,\"type\":\"pie\"}]},\"layout\":{\"autotypenumbers\":\"strict\",\"colorway\":[\"#636efa\",\"#EF553B\",\"#00cc96\",\"#ab63fa\",\"#FFA15A\",\"#19d3f3\",\"#FF6692\",\"#B6E880\",\"#FF97FF\",\"#FECB52\"],\"font\":{\"color\":\"#2a3f5f\"},\"hovermode\":\"closest\",\"hoverlabel\":{\"align\":\"left\"},\"paper_bgcolor\":\"white\",\"plot_bgcolor\":\"#E5ECF6\",\"polar\":{\"bgcolor\":\"#E5ECF6\",\"angularaxis\":{\"gridcolor\":\"white\",\"linecolor\":\"white\",\"ticks\":\"\"},\"radialaxis\":{\"gridcolor\":\"white\",\"linecolor\":\"white\",\"ticks\":\"\"}},\"ternary\":{\"bgcolor\":\"#E5ECF6\",\"aaxis\":{\"gridcolor\":\"white\",\"linecolor\":\"white\",\"ticks\":\"\"},\"baxis\":{\"gridcolor\":\"white\",\"linecolor\":\"white\",\"ticks\":\"\"},\"caxis\":{\"gridcolor\":\"white\",\"linecolor\":\"white\",\"ticks\":\"\"}},\"coloraxis\":{\"colorbar\":{\"outlinewidth\":0,\"ticks\":\"\"}},\"colorscale\":{\"sequential\":[[0.0,\"#0d0887\"],[0.1111111111111111,\"#46039f\"],[0.2222222222222222,\"#7201a8\"],[0.3333333333333333,\"#9c179e\"],[0.4444444444444444,\"#bd3786\"],[0.5555555555555556,\"#d8576b\"],[0.6666666666666666,\"#ed7953\"],[0.7777777777777778,\"#fb9f3a\"],[0.8888888888888888,\"#fdca26\"],[1.0,\"#f0f921\"]],\"sequentialminus\":[[0.0,\"#0d0887\"],[0.1111111111111111,\"#46039f\"],[0.2222222222222222,\"#7201a8\"],[0.3333333333333333,\"#9c179e\"],[0.4444444444444444,\"#bd3786\"],[0.5555555555555556,\"#d8576b\"],[0.6666666666666666,\"#ed7953\"],[0.7777777777777778,\"#fb9f3a\"],[0.8888888888888888,\"#fdca26\"],[1.0,\"#f0f921\"]],\"diverging\":[[0,\"#8e0152\"],[0.1,\"#c51b7d\"],[0.2,\"#de77ae\"],[0.3,\"#f1b6da\"],[0.4,\"#fde0ef\"],[0.5,\"#f7f7f7\"],[0.6,\"#e6f5d0\"],[0.7,\"#b8e186\"],[0.8,\"#7fbc41\"],[0.9,\"#4d9221\"],[1,\"#276419\"]]},\"xaxis\":{\"gridcolor\":\"white\",\"linecolor\":\"white\",\"ticks\":\"\",\"title\":{\"standoff\":15},\"zerolinecolor\":\"white\",\"automargin\":true,\"zerolinewidth\":2},\"yaxis\":{\"gridcolor\":\"white\",\"linecolor\":\"white\",\"ticks\":\"\",\"title\":{\"standoff\":15},\"zerolinecolor\":\"white\",\"automargin\":true,\"zerolinewidth\":2},\"scene\":{\"xaxis\":{\"backgroundcolor\":\"#E5ECF6\",\"gridcolor\":\"white\",\"linecolor\":\"white\",\"showbackground\":true,\"ticks\":\"\",\"zerolinecolor\":\"white\",\"gridwidth\":2},\"yaxis\":{\"backgroundcolor\":\"#E5ECF6\",\"gridcolor\":\"white\",\"linecolor\":\"white\",\"showbackground\":true,\"ticks\":\"\",\"zerolinecolor\":\"white\",\"gridwidth\":2},\"zaxis\":{\"backgroundcolor\":\"#E5ECF6\",\"gridcolor\":\"white\",\"linecolor\":\"white\",\"showbackground\":true,\"ticks\":\"\",\"zerolinecolor\":\"white\",\"gridwidth\":2}},\"shapedefaults\":{\"line\":{\"color\":\"#2a3f5f\"}},\"annotationdefaults\":{\"arrowcolor\":\"#2a3f5f\",\"arrowhead\":0,\"arrowwidth\":1},\"geo\":{\"bgcolor\":\"white\",\"landcolor\":\"#E5ECF6\",\"subunitcolor\":\"white\",\"showland\":true,\"showlakes\":true,\"lakecolor\":\"white\"},\"title\":{\"x\":0.05},\"mapbox\":{\"style\":\"light\"}}},\"xaxis\":{\"anchor\":\"y\",\"domain\":[0.0,1.0],\"matches\":\"x3\",\"showticklabels\":true,\"tickfont\":{\"size\":10},\"type\":\"date\",\"tickformat\":\"%b %d\",\"tickangle\":45},\"yaxis\":{\"anchor\":\"x\",\"domain\":[0.527,1.0],\"title\":{\"text\":\"Game Location\"},\"tickvals\":[0,1],\"ticktext\":[\"Away\",\"Home\"],\"range\":[-0.5,1.5]},\"xaxis2\":{\"anchor\":\"y2\",\"domain\":[0.0,1.0],\"matches\":\"x3\",\"showticklabels\":true,\"tickfont\":{\"size\":10},\"type\":\"date\",\"tickformat\":\"%b %d\",\"tickangle\":45},\"yaxis2\":{\"anchor\":\"x2\",\"domain\":[0.24200000000000002,0.457],\"title\":{\"text\":\"Travel Distance (km)\"}},\"xaxis3\":{\"anchor\":\"y3\",\"domain\":[0.0,1.0],\"tickfont\":{\"size\":10},\"type\":\"date\",\"tickformat\":\"%b %d\",\"tickangle\":45,\"showticklabels\":true,\"title\":{\"text\":\"Date\"}},\"yaxis3\":{\"anchor\":\"x3\",\"domain\":[0.0,0.17200000000000001],\"title\":{\"text\":\"Games in Last 6 Days\"}},\"annotations\":[{\"font\":{\"size\":16},\"showarrow\":false,\"text\":\"DEN Schedule Timeline — 2024–25 (80-game draft)\",\"x\":0.5,\"xanchor\":\"center\",\"xref\":\"paper\",\"y\":1.0,\"yanchor\":\"bottom\",\"yref\":\"paper\"},{\"font\":{\"size\":16},\"showarrow\":false,\"text\":\"Travel between consecutive games (km)\",\"x\":0.5,\"xanchor\":\"center\",\"xref\":\"paper\",\"y\":0.457,\"yanchor\":\"bottom\",\"yref\":\"paper\"},{\"font\":{\"size\":16},\"showarrow\":false,\"text\":\"Games in last 6 days (threshold at 4)\",\"x\":0.5,\"xanchor\":\"center\",\"xref\":\"paper\",\"y\":0.17200000000000001,\"yanchor\":\"bottom\",\"yref\":\"paper\"}],\"shapes\":[{\"fillcolor\":\"red\",\"line\":{\"width\":0},\"opacity\":0.08,\"type\":\"rect\",\"x0\":\"2024-10-28T12:00:00\",\"x1\":\"2024-10-29T12:00:00\",\"xref\":\"x\",\"y0\":0,\"y1\":1,\"yref\":\"y domain\"},{\"fillcolor\":\"red\",\"line\":{\"width\":0},\"opacity\":0.08,\"type\":\"rect\",\"x0\":\"2024-11-01T12:00:00\",\"x1\":\"2024-11-02T12:00:00\",\"xref\":\"x\",\"y0\":0,\"y1\":1,\"yref\":\"y domain\"},{\"fillcolor\":\"red\",\"line\":{\"width\":0},\"opacity\":0.08,\"type\":\"rect\",\"x0\":\"2024-11-05T12:00:00\",\"x1\":\"2024-11-06T12:00:00\",\"xref\":\"x\",\"y0\":0,\"y1\":1,\"yref\":\"y domain\"},{\"fillcolor\":\"red\",\"line\":{\"width\":0},\"opacity\":0.08,\"type\":\"rect\",\"x0\":\"2024-11-26T12:00:00\",\"x1\":\"2024-11-27T12:00:00\",\"xref\":\"x\",\"y0\":0,\"y1\":1,\"yref\":\"y domain\"},{\"fillcolor\":\"red\",\"line\":{\"width\":0},\"opacity\":0.08,\"type\":\"rect\",\"x0\":\"2024-12-07T12:00:00\",\"x1\":\"2024-12-08T12:00:00\",\"xref\":\"x\",\"y0\":0,\"y1\":1,\"yref\":\"y domain\"},{\"fillcolor\":\"red\",\"line\":{\"width\":0},\"opacity\":0.08,\"type\":\"rect\",\"x0\":\"2024-12-26T12:00:00\",\"x1\":\"2024-12-27T12:00:00\",\"xref\":\"x\",\"y0\":0,\"y1\":1,\"yref\":\"y domain\"},{\"fillcolor\":\"red\",\"line\":{\"width\":0},\"opacity\":0.08,\"type\":\"rect\",\"x0\":\"2024-12-27T12:00:00\",\"x1\":\"2024-12-28T12:00:00\",\"xref\":\"x\",\"y0\":0,\"y1\":1,\"yref\":\"y domain\"},{\"fillcolor\":\"red\",\"line\":{\"width\":0},\"opacity\":0.08,\"type\":\"rect\",\"x0\":\"2024-12-29T12:00:00\",\"x1\":\"2024-12-30T12:00:00\",\"xref\":\"x\",\"y0\":0,\"y1\":1,\"yref\":\"y domain\"},{\"fillcolor\":\"red\",\"line\":{\"width\":0},\"opacity\":0.08,\"type\":\"rect\",\"x0\":\"2024-12-31T12:00:00\",\"x1\":\"2025-01-01T12:00:00\",\"xref\":\"x\",\"y0\":0,\"y1\":1,\"yref\":\"y domain\"},{\"fillcolor\":\"red\",\"line\":{\"width\":0},\"opacity\":0.08,\"type\":\"rect\",\"x0\":\"2025-01-03T12:00:00\",\"x1\":\"2025-01-04T12:00:00\",\"xref\":\"x\",\"y0\":0,\"y1\":1,\"yref\":\"y domain\"},{\"fillcolor\":\"red\",\"line\":{\"width\":0},\"opacity\":0.08,\"type\":\"rect\",\"x0\":\"2025-01-07T12:00:00\",\"x1\":\"2025-01-08T12:00:00\",\"xref\":\"x\",\"y0\":0,\"y1\":1,\"yref\":\"y domain\"},{\"fillcolor\":\"red\",\"line\":{\"width\":0},\"opacity\":0.08,\"type\":\"rect\",\"x0\":\"2025-01-11T12:00:00\",\"x1\":\"2025-01-12T12:00:00\",\"xref\":\"x\",\"y0\":0,\"y1\":1,\"yref\":\"y domain\"},{\"fillcolor\":\"red\",\"line\":{\"width\":0},\"opacity\":0.08,\"type\":\"rect\",\"x0\":\"2025-01-14T12:00:00\",\"x1\":\"2025-01-15T12:00:00\",\"xref\":\"x\",\"y0\":0,\"y1\":1,\"yref\":\"y domain\"},{\"fillcolor\":\"red\",\"line\":{\"width\":0},\"opacity\":0.08,\"type\":\"rect\",\"x0\":\"2025-01-16T12:00:00\",\"x1\":\"2025-01-17T12:00:00\",\"xref\":\"x\",\"y0\":0,\"y1\":1,\"yref\":\"y domain\"},{\"fillcolor\":\"red\",\"line\":{\"width\":0},\"opacity\":0.08,\"type\":\"rect\",\"x0\":\"2025-01-18T12:00:00\",\"x1\":\"2025-01-19T12:00:00\",\"xref\":\"x\",\"y0\":0,\"y1\":1,\"yref\":\"y domain\"},{\"fillcolor\":\"red\",\"line\":{\"width\":0},\"opacity\":0.08,\"type\":\"rect\",\"x0\":\"2025-01-31T12:00:00\",\"x1\":\"2025-02-01T12:00:00\",\"xref\":\"x\",\"y0\":0,\"y1\":1,\"yref\":\"y domain\"},{\"fillcolor\":\"red\",\"line\":{\"width\":0},\"opacity\":0.08,\"type\":\"rect\",\"x0\":\"2025-02-02T12:00:00\",\"x1\":\"2025-02-03T12:00:00\",\"xref\":\"x\",\"y0\":0,\"y1\":1,\"yref\":\"y domain\"},{\"fillcolor\":\"red\",\"line\":{\"width\":0},\"opacity\":0.08,\"type\":\"rect\",\"x0\":\"2025-02-04T12:00:00\",\"x1\":\"2025-02-05T12:00:00\",\"xref\":\"x\",\"y0\":0,\"y1\":1,\"yref\":\"y domain\"},{\"fillcolor\":\"red\",\"line\":{\"width\":0},\"opacity\":0.08,\"type\":\"rect\",\"x0\":\"2025-02-05T12:00:00\",\"x1\":\"2025-02-06T12:00:00\",\"xref\":\"x\",\"y0\":0,\"y1\":1,\"yref\":\"y domain\"},{\"fillcolor\":\"red\",\"line\":{\"width\":0},\"opacity\":0.08,\"type\":\"rect\",\"x0\":\"2025-02-07T12:00:00\",\"x1\":\"2025-02-08T12:00:00\",\"xref\":\"x\",\"y0\":0,\"y1\":1,\"yref\":\"y domain\"},{\"fillcolor\":\"red\",\"line\":{\"width\":0},\"opacity\":0.08,\"type\":\"rect\",\"x0\":\"2025-02-09T12:00:00\",\"x1\":\"2025-02-10T12:00:00\",\"xref\":\"x\",\"y0\":0,\"y1\":1,\"yref\":\"y domain\"},{\"fillcolor\":\"red\",\"line\":{\"width\":0},\"opacity\":0.08,\"type\":\"rect\",\"x0\":\"2025-03-09T12:00:00\",\"x1\":\"2025-03-10T12:00:00\",\"xref\":\"x\",\"y0\":0,\"y1\":1,\"yref\":\"y domain\"},{\"fillcolor\":\"red\",\"line\":{\"width\":0},\"opacity\":0.08,\"type\":\"rect\",\"x0\":\"2025-03-11T12:00:00\",\"x1\":\"2025-03-12T12:00:00\",\"xref\":\"x\",\"y0\":0,\"y1\":1,\"yref\":\"y domain\"},{\"fillcolor\":\"red\",\"line\":{\"width\":0},\"opacity\":0.08,\"type\":\"rect\",\"x0\":\"2025-03-13T12:00:00\",\"x1\":\"2025-03-14T12:00:00\",\"xref\":\"x\",\"y0\":0,\"y1\":1,\"yref\":\"y domain\"},{\"fillcolor\":\"red\",\"line\":{\"width\":0},\"opacity\":0.08,\"type\":\"rect\",\"x0\":\"2025-03-14T12:00:00\",\"x1\":\"2025-03-15T12:00:00\",\"xref\":\"x\",\"y0\":0,\"y1\":1,\"yref\":\"y domain\"},{\"fillcolor\":\"red\",\"line\":{\"width\":0},\"opacity\":0.08,\"type\":\"rect\",\"x0\":\"2025-03-16T12:00:00\",\"x1\":\"2025-03-17T12:00:00\",\"xref\":\"x\",\"y0\":0,\"y1\":1,\"yref\":\"y domain\"},{\"fillcolor\":\"red\",\"line\":{\"width\":0},\"opacity\":0.08,\"type\":\"rect\",\"x0\":\"2025-03-18T12:00:00\",\"x1\":\"2025-03-19T12:00:00\",\"xref\":\"x\",\"y0\":0,\"y1\":1,\"yref\":\"y domain\"},{\"fillcolor\":\"red\",\"line\":{\"width\":0},\"opacity\":0.08,\"type\":\"rect\",\"x0\":\"2025-03-23T12:00:00\",\"x1\":\"2025-03-24T12:00:00\",\"xref\":\"x\",\"y0\":0,\"y1\":1,\"yref\":\"y domain\"},{\"fillcolor\":\"red\",\"line\":{\"width\":0},\"opacity\":0.08,\"type\":\"rect\",\"x0\":\"2025-03-25T12:00:00\",\"x1\":\"2025-03-26T12:00:00\",\"xref\":\"x\",\"y0\":0,\"y1\":1,\"yref\":\"y domain\"},{\"fillcolor\":\"red\",\"line\":{\"width\":0},\"opacity\":0.08,\"type\":\"rect\",\"x0\":\"2025-03-27T12:00:00\",\"x1\":\"2025-03-28T12:00:00\",\"xref\":\"x\",\"y0\":0,\"y1\":1,\"yref\":\"y domain\"},{\"fillcolor\":\"red\",\"line\":{\"width\":0},\"opacity\":0.08,\"type\":\"rect\",\"x0\":\"2025-04-05T12:00:00\",\"x1\":\"2025-04-06T12:00:00\",\"xref\":\"x\",\"y0\":0,\"y1\":1,\"yref\":\"y domain\"},{\"line\":{\"color\":\"red\",\"dash\":\"dot\"},\"type\":\"line\",\"x0\":0,\"x1\":1,\"xref\":\"x3 domain\",\"y0\":4,\"y1\":4,\"yref\":\"y3\"}],\"margin\":{\"l\":90,\"r\":20,\"t\":60,\"b\":80},\"height\":840,\"showlegend\":false,\"hovermode\":\"x unified\"},                        {\"responsive\": true}                    ).then(function(){\n",
              "                            \n",
              "var gd = document.getElementById('665014cc-a210-4830-b356-e8193f20523c');\n",
              "var x = new MutationObserver(function (mutations, observer) {{\n",
              "        var display = window.getComputedStyle(gd).display;\n",
              "        if (!display || display === 'none') {{\n",
              "            console.log([gd, 'removed!']);\n",
              "            Plotly.purge(gd);\n",
              "            observer.disconnect();\n",
              "        }}\n",
              "}});\n",
              "\n",
              "// Listen for the removal of the full notebook cells\n",
              "var notebookContainer = gd.closest('#notebook-container');\n",
              "if (notebookContainer) {{\n",
              "    x.observe(notebookContainer, {childList: true});\n",
              "}}\n",
              "\n",
              "// Listen for the clearing of the current output cell\n",
              "var outputEl = gd.closest('.output');\n",
              "if (outputEl) {{\n",
              "    x.observe(outputEl, {childList: true});\n",
              "}}\n",
              "\n",
              "                        })                };                            </script>        </div>\n",
              "</body>\n",
              "</html>"
            ]
          },
          "metadata": {}
        }
      ]
    },
    {
      "cell_type": "markdown",
      "metadata": {
        "id": "VdWX-b2IrTDO"
      },
      "source": [
        "### Question 8    \n",
        "\n",
        "**QUESTION:** Using your tool, what is the best and worst part of OKC’s 2024-25 draft schedule? Please give your answer as a short brief to members of the front office and coaching staff to set expectations going into the season. You can include context from past schedules.  \n",
        "\n"
      ]
    },
    {
      "cell_type": "markdown",
      "metadata": {
        "id": "Qg_SEa4vrTDP"
      },
      "source": [
        "<strong><span style=\"color:red\">ANSWER 8:</span></strong>  "
      ]
    },
    {
      "cell_type": "markdown",
      "source": [
        "\n",
        "# **Briefing for FO & Coaching**\n",
        "**Best stretch (mid-season window, roughly games 30–50):**\n",
        "\n",
        "Our schedule tool shows a stable rhythm with several mini home stands, few 4-in-6 flags, and moderate travel bars. Markers stay small-to-medium and diamonds (B2B) are sparse. This is the best runway for continuity, practice time, and lineup experimentation.\n",
        "\n",
        "**Toughest stretch (opening month):**\n",
        "\n",
        "The timeline clusters tightly with multiple red bands (4-in-6) and several diamond markers (B2B), and we see repeated large markers that coincide with long road jumps on the travel chart. This is the heaviest combined density + travel segment on the draft slate.\n",
        "\n",
        "**Context vs. recent seasons:**\n",
        "\n",
        "League-wide density has trended down, but our early window is still as demanding as any recent start. Mid-season is materially lighter than historical averages, which we can use to consolidate wins.\n",
        "\n",
        "**Recommendations**\n",
        "\n",
        "**Early stretch:** conservative minutes, deeper rotation, emphasize recovery and travel routines; pre-plan rest on B2B seconds.\n",
        "\n",
        "**Mid-season:** push for win streaks, tighten late-game reps, schedule skill blocks and scouting installs.\n",
        "\n",
        "**Monitoring:** track cumulative travel load and rolling games-in-6; flag emerging 3-in-4 pockets for proactive rest.\n",
        "\n",
        "**This framing comes directly from the tool:** diamonds = B2B, red shading = 4-in-6, and larger markers = longer travel; the mid-season band is notably calmer on all three signals."
      ],
      "metadata": {
        "id": "slLA6IlTCgfO"
      }
    },
    {
      "cell_type": "markdown",
      "metadata": {
        "id": "tCxMUxs8rTDP"
      },
      "source": [
        "## Part 3 -- Modeling     \n",
        "\n",
        "### Question 9   \n",
        "\n",
        "**QUESTION:** Please estimate how many more/fewer regular season wins each team has had due to schedule-related factors from 2019-20 though 2023-24. Your final answer should have one number for each team, representing the total number of wins (not per 82, and not a per-season average). You may consider the on-court strength of the scheduled opponents as well as the impact of travel/schedule density. Please include the teams and estimates for the most helped and most hurt in the answer key.    \n",
        "\n",
        "If you fit a model to help answer this question, please write a paragraph explaining your model, and include a simple model diagnostic (eg a printed summary of a regression, a variable importance plot, etc).    "
      ]
    },
    {
      "cell_type": "code",
      "execution_count": 26,
      "metadata": {
        "id": "SOT0QX0srTDP"
      },
      "outputs": [],
      "source": [
        "from math import radians, sin, cos, asin, sqrt\n",
        "import statsmodels.api as sm\n",
        "\n",
        "tg = pd.read_csv(\"team_game_data.csv\").copy()\n",
        "locs = pd.read_csv(\"locations.csv\").copy()\n",
        "\n",
        "tg[\"gamedate\"] = pd.to_datetime(tg[\"gamedate\"], errors=\"coerce\")\n",
        "\n",
        "tg = tg[(tg[\"season\"] >= 2019) & (tg[\"season\"] <= 2023)].copy()\n",
        "\n",
        "REGULAR_SEASON_CODE = None\n",
        "if REGULAR_SEASON_CODE is not None and \"gametype\" in tg.columns:\n",
        "    tg = tg[tg[\"gametype\"] == REGULAR_SEASON_CODE].copy()\n",
        "\n",
        "req_cols = [\"season\",\"gamedate\",\"off_team\",\"def_team\",\"off_home\",\"off_win\"]\n",
        "missing = [c for c in req_cols if c not in tg.columns]\n",
        "assert not missing, f\"Missing columns in team_game_data: {missing}\"\n",
        "\n",
        "tg[\"off_home\"] = pd.to_numeric(tg[\"off_home\"], errors=\"coerce\").fillna(0).astype(int)\n",
        "tg[\"off_win\"]  = pd.to_numeric(tg[\"off_win\"],  errors=\"coerce\").fillna(0).astype(int)"
      ]
    },
    {
      "cell_type": "code",
      "source": [
        "\n",
        "def haversine_km(lat1, lon1, lat2, lon2):\n",
        "    R = 6371.0\n",
        "    lat1, lon1, lat2, lon2 = map(np.radians, [lat1, lon1, lat2, lon2])\n",
        "    dlat = lat2 - lat1\n",
        "    dlon = lon2 - lon1\n",
        "    a = np.sin(dlat/2.0)**2 + np.cos(lat1)*np.cos(lat2)*np.sin(dlon/2.0)**2\n",
        "    return 2 * R * np.arcsin(np.sqrt(a))\n",
        "\n",
        "locs[\"latitude\"]  = pd.to_numeric(locs[\"latitude\"], errors=\"coerce\")\n",
        "locs[\"longitude\"] = pd.to_numeric(locs[\"longitude\"], errors=\"coerce\")\n",
        "\n",
        "tg = tg.merge(locs.rename(columns={\"team\":\"off_team\", \"latitude\":\"off_lat\", \"longitude\":\"off_lon\"}),\n",
        "              on=\"off_team\", how=\"left\")\n",
        "tg = tg.merge(locs.rename(columns={\"team\":\"def_team\", \"latitude\":\"def_lat\", \"longitude\":\"def_lon\"}),\n",
        "              on=\"def_team\", how=\"left\")\n",
        "\n",
        "tg[\"site_lat\"] = np.where(tg[\"off_home\"]==1, tg[\"off_lat\"], tg[\"def_lat\"])\n",
        "tg[\"site_lon\"] = np.where(tg[\"off_home\"]==1, tg[\"off_lon\"], tg[\"def_lon\"])\n",
        "\n",
        "tg = tg.sort_values([\"off_team\",\"gamedate\"])\n",
        "tg[\"prev_site_lat\"] = tg.groupby(\"off_team\")[\"site_lat\"].shift(1)\n",
        "tg[\"prev_site_lon\"] = tg.groupby(\"off_team\")[\"site_lon\"].shift(1)\n",
        "\n",
        "tg[\"travel_km\"] = haversine_km(tg[\"prev_site_lat\"], tg[\"prev_site_lon\"], tg[\"site_lat\"], tg[\"site_lon\"])\n",
        "tg[\"travel_km\"] = tg[\"travel_km\"].fillna(0.0)\n",
        "\n",
        "tg[\"travel_1000km\"] = tg[\"travel_km\"] / 1000.0"
      ],
      "metadata": {
        "id": "s9oIEEjAILTp"
      },
      "execution_count": 27,
      "outputs": []
    },
    {
      "cell_type": "code",
      "source": [
        "tg[\"prev_date_team\"] = tg.groupby(\"off_team\")[\"gamedate\"].shift(1)\n",
        "tg[\"team_days_rest\"] = (tg[\"gamedate\"] - tg[\"prev_date_team\"]).dt.days\n",
        "tg[\"team_on_b2b\"] = tg[\"team_days_rest\"] == 1\n",
        "\n",
        "rest_tbl = tg[[\"off_team\",\"gamedate\",\"team_days_rest\",\"team_on_b2b\"]].rename(\n",
        "    columns={\"off_team\":\"team\"}\n",
        ")\n",
        "\n",
        "tg = tg.merge(rest_tbl.rename(columns={\n",
        "                \"team\":\"def_team\",\n",
        "                \"team_days_rest\":\"opp_days_rest\",\n",
        "                \"team_on_b2b\":\"opp_on_b2b\"}),\n",
        "              on=[\"def_team\",\"gamedate\"], how=\"left\")\n",
        "\n",
        "tg[\"team_days_rest\"] = tg[\"team_days_rest\"].fillna(3)\n",
        "tg[\"opp_days_rest\"]  = tg[\"opp_days_rest\"].fillna(3)\n",
        "\n",
        "tg[\"rest_diff\"] = tg[\"team_days_rest\"] - tg[\"opp_days_rest\"]"
      ],
      "metadata": {
        "id": "JwDGOQ6rIOe4"
      },
      "execution_count": 28,
      "outputs": []
    },
    {
      "cell_type": "code",
      "source": [
        "team_season_win = (tg.groupby([\"off_team\",\"season\"])[\"off_win\"]\n",
        "                     .mean()\n",
        "                     .reset_index(name=\"win_pct\"))\n",
        "\n",
        "opp_prev = team_season_win.copy()\n",
        "opp_prev[\"season\"] = opp_prev[\"season\"] + 1\n",
        "opp_prev = opp_prev.rename(columns={\"off_team\":\"def_team\", \"win_pct\":\"opp_prev_winpct\"})\n",
        "\n",
        "tg = tg.merge(opp_prev[[\"def_team\",\"season\",\"opp_prev_winpct\"]],\n",
        "              on=[\"def_team\",\"season\"], how=\"left\")\n",
        "\n",
        "tg[\"opp_prev_winpct\"] = tg[\"opp_prev_winpct\"].fillna(tg[\"off_win\"].mean())\n"
      ],
      "metadata": {
        "id": "FWH2IeDNIQ6W"
      },
      "execution_count": 29,
      "outputs": []
    },
    {
      "cell_type": "code",
      "source": [
        "model_df = tg[[\n",
        "    \"off_win\",\n",
        "    \"team_on_b2b\",\n",
        "    \"opp_on_b2b\",\n",
        "    \"rest_diff\",\n",
        "    \"travel_1000km\",\n",
        "    \"opp_prev_winpct\",\n",
        "    \"off_home\",\n",
        "    \"off_team\",\n",
        "]]\n",
        "\n",
        "model_df = model_df.dropna().copy()\n",
        "\n",
        "X = model_df[[\"team_on_b2b\",\"opp_on_b2b\",\"rest_diff\",\"travel_1000km\",\"opp_prev_winpct\",\"off_home\"]].astype(float)\n",
        "y = model_df[\"off_win\"].astype(int)\n",
        "\n",
        "Xc = sm.add_constant(X, has_constant=\"add\")\n",
        "logit_model = sm.Logit(y, Xc)\n",
        "res = logit_model.fit(disp=False)\n",
        "\n",
        "print(res.summary())\n"
      ],
      "metadata": {
        "colab": {
          "base_uri": "https://localhost:8080/"
        },
        "id": "UgnxIZZiIkdM",
        "outputId": "093eacda-0f13-4ced-82fb-5e461b330875"
      },
      "execution_count": 46,
      "outputs": [
        {
          "output_type": "stream",
          "name": "stdout",
          "text": [
            "                           Logit Regression Results                           \n",
            "==============================================================================\n",
            "Dep. Variable:                off_win   No. Observations:                11658\n",
            "Model:                          Logit   Df Residuals:                    11651\n",
            "Method:                           MLE   Df Model:                            6\n",
            "Date:                Sun, 17 Aug 2025   Pseudo R-squ.:                 0.02418\n",
            "Time:                        18:18:10   Log-Likelihood:                -7885.3\n",
            "converged:                       True   LL-Null:                       -8080.7\n",
            "Covariance Type:            nonrobust   LLR p-value:                 2.727e-81\n",
            "===================================================================================\n",
            "                      coef    std err          z      P>|z|      [0.025      0.975]\n",
            "-----------------------------------------------------------------------------------\n",
            "const               0.9410      0.086     10.921      0.000       0.772       1.110\n",
            "team_on_b2b        -0.2679      0.051     -5.248      0.000      -0.368      -0.168\n",
            "opp_on_b2b          0.2463      0.050      4.881      0.000       0.147       0.345\n",
            "rest_diff           0.0037      0.003      1.256      0.209      -0.002       0.009\n",
            "travel_1000km      -0.0370      0.023     -1.637      0.102      -0.081       0.007\n",
            "opp_prev_winpct    -2.2059      0.154    -14.278      0.000      -2.509      -1.903\n",
            "off_home            0.3913      0.040      9.833      0.000       0.313       0.469\n",
            "===================================================================================\n"
          ]
        }
      ]
    },
    {
      "cell_type": "code",
      "source": [
        "import matplotlib.pyplot as plt\n",
        "\n",
        "coefs = res.params.drop(\"const\")\n",
        "features = coefs.index\n",
        "coef_values = coefs.values\n",
        "\n",
        "scaled_importance = np.abs(coef_values * X.std(axis=0).values)\n",
        "\n",
        "idx = np.argsort(scaled_importance)[::-1]\n",
        "features_sorted = features[idx]\n",
        "importance_sorted = scaled_importance[idx]\n",
        "\n",
        "plt.figure(figsize=(8,5))\n",
        "plt.barh(features_sorted, importance_sorted, color=\"cornflowerblue\")\n",
        "plt.gca().invert_yaxis()\n",
        "plt.xlabel(\"Relative Importance (|coef| × std)\")\n",
        "plt.title(\"Variable Importance in Schedule-Win Model\")\n",
        "plt.show()\n",
        "\n"
      ],
      "metadata": {
        "colab": {
          "base_uri": "https://localhost:8080/",
          "height": 488
        },
        "id": "H5ghm4ucKy0p",
        "outputId": "92f4638f-11f8-4d49-fad5-35a1745cd6be"
      },
      "execution_count": 47,
      "outputs": [
        {
          "output_type": "display_data",
          "data": {
            "text/plain": [
              "<Figure size 800x500 with 1 Axes>"
            ],
            "image/png": "[encoded data removed]"
          },
          "metadata": {}
        }
      ]
    },
    {
      "cell_type": "code",
      "source": [
        "model_df[\"p_actual\"] = res.predict(Xc)\n",
        "\n",
        "X_neutral = X.copy()\n",
        "X_neutral[\"team_on_b2b\"] = 0.0\n",
        "X_neutral[\"opp_on_b2b\"]  = 0.0\n",
        "X_neutral[\"rest_diff\"]   = 0.0\n",
        "X_neutral[\"travel_1000km\"] = X[\"travel_1000km\"].median()\n",
        "\n",
        "Xc_neutral = sm.add_constant(X_neutral, has_constant=\"add\")\n",
        "model_df[\"p_neutral\"] = res.predict(Xc_neutral)\n",
        "\n",
        "model_df[\"delta_win_prob\"] = model_df[\"p_actual\"] - model_df[\"p_neutral\"]\n",
        "\n",
        "impact_by_team = (model_df\n",
        "                  .groupby(\"off_team\")[\"delta_win_prob\"]\n",
        "                  .sum()\n",
        "                  .sort_values(ascending=False))\n",
        "\n",
        "impact_by_team.head(10), impact_by_team.tail(10)\n"
      ],
      "metadata": {
        "colab": {
          "base_uri": "https://localhost:8080/"
        },
        "id": "EdfEQYz6IweI",
        "outputId": "c7fcafa4-30bd-44f7-9f1e-ae1852ed1f43"
      },
      "execution_count": 48,
      "outputs": [
        {
          "output_type": "execute_result",
          "data": {
            "text/plain": [
              "(off_team\n",
              " MIL    0.015625\n",
              " TOR   -0.167470\n",
              " CLE   -0.197738\n",
              " MEM   -0.301081\n",
              " CHI   -0.393773\n",
              " NYK   -0.436519\n",
              " PHI   -0.504387\n",
              " DET   -0.533552\n",
              " ATL   -0.612941\n",
              " PHX   -0.657359\n",
              " Name: delta_win_prob, dtype: float64,\n",
              " off_team\n",
              " DAL   -1.272180\n",
              " CHA   -1.290140\n",
              " LAL   -1.301585\n",
              " OKC   -1.317019\n",
              " ORL   -1.459264\n",
              " LAC   -1.537604\n",
              " DEN   -1.596766\n",
              " POR   -1.608508\n",
              " SAS   -1.663421\n",
              " GSW   -1.811463\n",
              " Name: delta_win_prob, dtype: float64)"
            ]
          },
          "metadata": {},
          "execution_count": 48
        }
      ]
    },
    {
      "cell_type": "code",
      "source": [
        "impact = impact_by_team.reset_index().rename(columns={\"off_team\":\"team\", \"delta_win_prob\":\"schedule_wins\"})\n",
        "impact[\"schedule_wins\"] = impact[\"schedule_wins\"].round(2)\n",
        "\n",
        "most_helped = impact.iloc[0]\n",
        "most_hurt   = impact.iloc[-1]\n",
        "\n",
        "display(impact)\n",
        "\n",
        "print(\"\\nMost helped team:\", f'{most_helped[\"team\"]}: {most_helped[\"schedule_wins\"]} wins')\n",
        "print(\"Most hurt team:\", f'{most_hurt[\"team\"]}: {most_hurt[\"schedule_wins\"]} wins')\n"
      ],
      "metadata": {
        "colab": {
          "base_uri": "https://localhost:8080/",
          "height": 1000
        },
        "id": "Exuc3Ju4JNVF",
        "outputId": "5d428a83-7fb4-4646-fba4-d829a997f82b"
      },
      "execution_count": 38,
      "outputs": [
        {
          "output_type": "display_data",
          "data": {
            "text/plain": [
              "   team  schedule_wins\n",
              "0   MIL           0.02\n",
              "1   TOR          -0.17\n",
              "2   CLE          -0.20\n",
              "3   MEM          -0.30\n",
              "4   CHI          -0.39\n",
              "5   NYK          -0.44\n",
              "6   PHI          -0.50\n",
              "7   DET          -0.53\n",
              "8   ATL          -0.61\n",
              "9   PHX          -0.66\n",
              "10  BKN          -0.66\n",
              "11  SAC          -0.87\n",
              "12  WAS          -0.92\n",
              "13  HOU          -0.94\n",
              "14  IND          -0.98\n",
              "15  NOP          -1.05\n",
              "16  MIA          -1.08\n",
              "17  MIN          -1.13\n",
              "18  BOS          -1.17\n",
              "19  UTA          -1.23\n",
              "20  DAL          -1.27\n",
              "21  CHA          -1.29\n",
              "22  LAL          -1.30\n",
              "23  OKC          -1.32\n",
              "24  ORL          -1.46\n",
              "25  LAC          -1.54\n",
              "26  DEN          -1.60\n",
              "27  POR          -1.61\n",
              "28  SAS          -1.66\n",
              "29  GSW          -1.81"
            ],
            "text/html": [
              "\n",
              "  <div id=\"df-88f7ec60-dfa5-40eb-b03c-6d765d69dc9b\" class=\"colab-df-container\">\n",
              "    <div>\n",
              "<style scoped>\n",
              "    .dataframe tbody tr th:only-of-type {\n",
              "        vertical-align: middle;\n",
              "    }\n",
              "\n",
              "    .dataframe tbody tr th {\n",
              "        vertical-align: top;\n",
              "    }\n",
              "\n",
              "    .dataframe thead th {\n",
              "        text-align: right;\n",
              "    }\n",
              "</style>\n",
              "<table border=\"1\" class=\"dataframe\">\n",
              "  <thead>\n",
              "    <tr style=\"text-align: right;\">\n",
              "      <th></th>\n",
              "      <th>team</th>\n",
              "      <th>schedule_wins</th>\n",
              "    </tr>\n",
              "  </thead>\n",
              "  <tbody>\n",
              "    <tr>\n",
              "      <th>0</th>\n",
              "      <td>MIL</td>\n",
              "      <td>0.02</td>\n",
              "    </tr>\n",
              "    <tr>\n",
              "      <th>1</th>\n",
              "      <td>TOR</td>\n",
              "      <td>-0.17</td>\n",
              "    </tr>\n",
              "    <tr>\n",
              "      <th>2</th>\n",
              "      <td>CLE</td>\n",
              "      <td>-0.20</td>\n",
              "    </tr>\n",
              "    <tr>\n",
              "      <th>3</th>\n",
              "      <td>MEM</td>\n",
              "      <td>-0.30</td>\n",
              "    </tr>\n",
              "    <tr>\n",
              "      <th>4</th>\n",
              "      <td>CHI</td>\n",
              "      <td>-0.39</td>\n",
              "    </tr>\n",
              "    <tr>\n",
              "      <th>5</th>\n",
              "      <td>NYK</td>\n",
              "      <td>-0.44</td>\n",
              "    </tr>\n",
              "    <tr>\n",
              "      <th>6</th>\n",
              "      <td>PHI</td>\n",
              "      <td>-0.50</td>\n",
              "    </tr>\n",
              "    <tr>\n",
              "      <th>7</th>\n",
              "      <td>DET</td>\n",
              "      <td>-0.53</td>\n",
              "    </tr>\n",
              "    <tr>\n",
              "      <th>8</th>\n",
              "      <td>ATL</td>\n",
              "      <td>-0.61</td>\n",
              "    </tr>\n",
              "    <tr>\n",
              "      <th>9</th>\n",
              "      <td>PHX</td>\n",
              "      <td>-0.66</td>\n",
              "    </tr>\n",
              "    <tr>\n",
              "      <th>10</th>\n",
              "      <td>BKN</td>\n",
              "      <td>-0.66</td>\n",
              "    </tr>\n",
              "    <tr>\n",
              "      <th>11</th>\n",
              "      <td>SAC</td>\n",
              "      <td>-0.87</td>\n",
              "    </tr>\n",
              "    <tr>\n",
              "      <th>12</th>\n",
              "      <td>WAS</td>\n",
              "      <td>-0.92</td>\n",
              "    </tr>\n",
              "    <tr>\n",
              "      <th>13</th>\n",
              "      <td>HOU</td>\n",
              "      <td>-0.94</td>\n",
              "    </tr>\n",
              "    <tr>\n",
              "      <th>14</th>\n",
              "      <td>IND</td>\n",
              "      <td>-0.98</td>\n",
              "    </tr>\n",
              "    <tr>\n",
              "      <th>15</th>\n",
              "      <td>NOP</td>\n",
              "      <td>-1.05</td>\n",
              "    </tr>\n",
              "    <tr>\n",
              "      <th>16</th>\n",
              "      <td>MIA</td>\n",
              "      <td>-1.08</td>\n",
              "    </tr>\n",
              "    <tr>\n",
              "      <th>17</th>\n",
              "      <td>MIN</td>\n",
              "      <td>-1.13</td>\n",
              "    </tr>\n",
              "    <tr>\n",
              "      <th>18</th>\n",
              "      <td>BOS</td>\n",
              "      <td>-1.17</td>\n",
              "    </tr>\n",
              "    <tr>\n",
              "      <th>19</th>\n",
              "      <td>UTA</td>\n",
              "      <td>-1.23</td>\n",
              "    </tr>\n",
              "    <tr>\n",
              "      <th>20</th>\n",
              "      <td>DAL</td>\n",
              "      <td>-1.27</td>\n",
              "    </tr>\n",
              "    <tr>\n",
              "      <th>21</th>\n",
              "      <td>CHA</td>\n",
              "      <td>-1.29</td>\n",
              "    </tr>\n",
              "    <tr>\n",
              "      <th>22</th>\n",
              "      <td>LAL</td>\n",
              "      <td>-1.30</td>\n",
              "    </tr>\n",
              "    <tr>\n",
              "      <th>23</th>\n",
              "      <td>OKC</td>\n",
              "      <td>-1.32</td>\n",
              "    </tr>\n",
              "    <tr>\n",
              "      <th>24</th>\n",
              "      <td>ORL</td>\n",
              "      <td>-1.46</td>\n",
              "    </tr>\n",
              "    <tr>\n",
              "      <th>25</th>\n",
              "      <td>LAC</td>\n",
              "      <td>-1.54</td>\n",
              "    </tr>\n",
              "    <tr>\n",
              "      <th>26</th>\n",
              "      <td>DEN</td>\n",
              "      <td>-1.60</td>\n",
              "    </tr>\n",
              "    <tr>\n",
              "      <th>27</th>\n",
              "      <td>POR</td>\n",
              "      <td>-1.61</td>\n",
              "    </tr>\n",
              "    <tr>\n",
              "      <th>28</th>\n",
              "      <td>SAS</td>\n",
              "      <td>-1.66</td>\n",
              "    </tr>\n",
              "    <tr>\n",
              "      <th>29</th>\n",
              "      <td>GSW</td>\n",
              "      <td>-1.81</td>\n",
              "    </tr>\n",
              "  </tbody>\n",
              "</table>\n",
              "</div>\n",
              "    <div class=\"colab-df-buttons\">\n",
              "\n",
              "  <div class=\"colab-df-container\">\n",
              "    <button class=\"colab-df-convert\" onclick=\"convertToInteractive('df-88f7ec60-dfa5-40eb-b03c-6d765d69dc9b')\"\n",
              "            title=\"Convert this dataframe to an interactive table.\"\n",
              "            style=\"display:none;\">\n",
              "\n",
              "  <svg xmlns=\"http://www.w3.org/2000/svg\" height=\"24px\" viewBox=\"0 -960 960 960\">\n",
              "    <path d=\"M120-120v-720h720v720H120Zm60-500h600v-160H180v160Zm220 220h160v-160H400v160Zm0 220h160v-160H400v160ZM180-400h160v-160H180v160Zm440 0h160v-160H620v160ZM180-180h160v-160H180v160Zm440 0h160v-160H620v160Z\"/>\n",
              "  </svg>\n",
              "    </button>\n",
              "\n",
              "  <style>\n",
              "    .colab-df-container {\n",
              "      display:flex;\n",
              "      gap: 12px;\n",
              "    }\n",
              "\n",
              "    .colab-df-convert {\n",
              "      background-color: #E8F0FE;\n",
              "      border: none;\n",
              "      border-radius: 50%;\n",
              "      cursor: pointer;\n",
              "      display: none;\n",
              "      fill: #1967D2;\n",
              "      height: 32px;\n",
              "      padding: 0 0 0 0;\n",
              "      width: 32px;\n",
              "    }\n",
              "\n",
              "    .colab-df-convert:hover {\n",
              "      background-color: #E2EBFA;\n",
              "      box-shadow: 0px 1px 2px rgba(60, 64, 67, 0.3), 0px 1px 3px 1px rgba(60, 64, 67, 0.15);\n",
              "      fill: #174EA6;\n",
              "    }\n",
              "\n",
              "    .colab-df-buttons div {\n",
              "      margin-bottom: 4px;\n",
              "    }\n",
              "\n",
              "    [theme=dark] .colab-df-convert {\n",
              "      background-color: #3B4455;\n",
              "      fill: #D2E3FC;\n",
              "    }\n",
              "\n",
              "    [theme=dark] .colab-df-convert:hover {\n",
              "      background-color: #434B5C;\n",
              "      box-shadow: 0px 1px 3px 1px rgba(0, 0, 0, 0.15);\n",
              "      filter: drop-shadow(0px 1px 2px rgba(0, 0, 0, 0.3));\n",
              "      fill: #FFFFFF;\n",
              "    }\n",
              "  </style>\n",
              "\n",
              "    <script>\n",
              "      const buttonEl =\n",
              "        document.querySelector('#df-88f7ec60-dfa5-40eb-b03c-6d765d69dc9b button.colab-df-convert');\n",
              "      buttonEl.style.display =\n",
              "        google.colab.kernel.accessAllowed ? 'block' : 'none';\n",
              "\n",
              "      async function convertToInteractive(key) {\n",
              "        const element = document.querySelector('#df-88f7ec60-dfa5-40eb-b03c-6d765d69dc9b');\n",
              "        const dataTable =\n",
              "          await google.colab.kernel.invokeFunction('convertToInteractive',\n",
              "                                                    [key], {});\n",
              "        if (!dataTable) return;\n",
              "\n",
              "        const docLinkHtml = 'Like what you see? Visit the ' +\n",
              "          '<a target=\"_blank\" href=https://colab.research.google.com/notebooks/data_table.ipynb>data table notebook</a>'\n",
              "          + ' to learn more about interactive tables.';\n",
              "        element.innerHTML = '';\n",
              "        dataTable['output_type'] = 'display_data';\n",
              "        await google.colab.output.renderOutput(dataTable, element);\n",
              "        const docLink = document.createElement('div');\n",
              "        docLink.innerHTML = docLinkHtml;\n",
              "        element.appendChild(docLink);\n",
              "      }\n",
              "    </script>\n",
              "  </div>\n",
              "\n",
              "\n",
              "    <div id=\"df-728486d4-e79e-4516-8552-58acf82dabd0\">\n",
              "      <button class=\"colab-df-quickchart\" onclick=\"quickchart('df-728486d4-e79e-4516-8552-58acf82dabd0')\"\n",
              "                title=\"Suggest charts\"\n",
              "                style=\"display:none;\">\n",
              "\n",
              "<svg xmlns=\"http://www.w3.org/2000/svg\" height=\"24px\"viewBox=\"0 0 24 24\"\n",
              "     width=\"24px\">\n",
              "    <g>\n",
              "        <path d=\"M19 3H5c-1.1 0-2 .9-2 2v14c0 1.1.9 2 2 2h14c1.1 0 2-.9 2-2V5c0-1.1-.9-2-2-2zM9 17H7v-7h2v7zm4 0h-2V7h2v10zm4 0h-2v-4h2v4z\"/>\n",
              "    </g>\n",
              "</svg>\n",
              "      </button>\n",
              "\n",
              "<style>\n",
              "  .colab-df-quickchart {\n",
              "      --bg-color: #E8F0FE;\n",
              "      --fill-color: #1967D2;\n",
              "      --hover-bg-color: #E2EBFA;\n",
              "      --hover-fill-color: #174EA6;\n",
              "      --disabled-fill-color: #AAA;\n",
              "      --disabled-bg-color: #DDD;\n",
              "  }\n",
              "\n",
              "  [theme=dark] .colab-df-quickchart {\n",
              "      --bg-color: #3B4455;\n",
              "      --fill-color: #D2E3FC;\n",
              "      --hover-bg-color: #434B5C;\n",
              "      --hover-fill-color: #FFFFFF;\n",
              "      --disabled-bg-color: #3B4455;\n",
              "      --disabled-fill-color: #666;\n",
              "  }\n",
              "\n",
              "  .colab-df-quickchart {\n",
              "    background-color: var(--bg-color);\n",
              "    border: none;\n",
              "    border-radius: 50%;\n",
              "    cursor: pointer;\n",
              "    display: none;\n",
              "    fill: var(--fill-color);\n",
              "    height: 32px;\n",
              "    padding: 0;\n",
              "    width: 32px;\n",
              "  }\n",
              "\n",
              "  .colab-df-quickchart:hover {\n",
              "    background-color: var(--hover-bg-color);\n",
              "    box-shadow: 0 1px 2px rgba(60, 64, 67, 0.3), 0 1px 3px 1px rgba(60, 64, 67, 0.15);\n",
              "    fill: var(--button-hover-fill-color);\n",
              "  }\n",
              "\n",
              "  .colab-df-quickchart-complete:disabled,\n",
              "  .colab-df-quickchart-complete:disabled:hover {\n",
              "    background-color: var(--disabled-bg-color);\n",
              "    fill: var(--disabled-fill-color);\n",
              "    box-shadow: none;\n",
              "  }\n",
              "\n",
              "  .colab-df-spinner {\n",
              "    border: 2px solid var(--fill-color);\n",
              "    border-color: transparent;\n",
              "    border-bottom-color: var(--fill-color);\n",
              "    animation:\n",
              "      spin 1s steps(1) infinite;\n",
              "  }\n",
              "\n",
              "  @keyframes spin {\n",
              "    0% {\n",
              "      border-color: transparent;\n",
              "      border-bottom-color: var(--fill-color);\n",
              "      border-left-color: var(--fill-color);\n",
              "    }\n",
              "    20% {\n",
              "      border-color: transparent;\n",
              "      border-left-color: var(--fill-color);\n",
              "      border-top-color: var(--fill-color);\n",
              "    }\n",
              "    30% {\n",
              "      border-color: transparent;\n",
              "      border-left-color: var(--fill-color);\n",
              "      border-top-color: var(--fill-color);\n",
              "      border-right-color: var(--fill-color);\n",
              "    }\n",
              "    40% {\n",
              "      border-color: transparent;\n",
              "      border-right-color: var(--fill-color);\n",
              "      border-top-color: var(--fill-color);\n",
              "    }\n",
              "    60% {\n",
              "      border-color: transparent;\n",
              "      border-right-color: var(--fill-color);\n",
              "    }\n",
              "    80% {\n",
              "      border-color: transparent;\n",
              "      border-right-color: var(--fill-color);\n",
              "      border-bottom-color: var(--fill-color);\n",
              "    }\n",
              "    90% {\n",
              "      border-color: transparent;\n",
              "      border-bottom-color: var(--fill-color);\n",
              "    }\n",
              "  }\n",
              "</style>\n",
              "\n",
              "      <script>\n",
              "        async function quickchart(key) {\n",
              "          const quickchartButtonEl =\n",
              "            document.querySelector('#' + key + ' button');\n",
              "          quickchartButtonEl.disabled = true;  // To prevent multiple clicks.\n",
              "          quickchartButtonEl.classList.add('colab-df-spinner');\n",
              "          try {\n",
              "            const charts = await google.colab.kernel.invokeFunction(\n",
              "                'suggestCharts', [key], {});\n",
              "          } catch (error) {\n",
              "            console.error('Error during call to suggestCharts:', error);\n",
              "          }\n",
              "          quickchartButtonEl.classList.remove('colab-df-spinner');\n",
              "          quickchartButtonEl.classList.add('colab-df-quickchart-complete');\n",
              "        }\n",
              "        (() => {\n",
              "          let quickchartButtonEl =\n",
              "            document.querySelector('#df-728486d4-e79e-4516-8552-58acf82dabd0 button');\n",
              "          quickchartButtonEl.style.display =\n",
              "            google.colab.kernel.accessAllowed ? 'block' : 'none';\n",
              "        })();\n",
              "      </script>\n",
              "    </div>\n",
              "\n",
              "  <div id=\"id_b3c3f559-441e-4512-9a86-9efef316fd57\">\n",
              "    <style>\n",
              "      .colab-df-generate {\n",
              "        background-color: #E8F0FE;\n",
              "        border: none;\n",
              "        border-radius: 50%;\n",
              "        cursor: pointer;\n",
              "        display: none;\n",
              "        fill: #1967D2;\n",
              "        height: 32px;\n",
              "        padding: 0 0 0 0;\n",
              "        width: 32px;\n",
              "      }\n",
              "\n",
              "      .colab-df-generate:hover {\n",
              "        background-color: #E2EBFA;\n",
              "        box-shadow: 0px 1px 2px rgba(60, 64, 67, 0.3), 0px 1px 3px 1px rgba(60, 64, 67, 0.15);\n",
              "        fill: #174EA6;\n",
              "      }\n",
              "\n",
              "      [theme=dark] .colab-df-generate {\n",
              "        background-color: #3B4455;\n",
              "        fill: #D2E3FC;\n",
              "      }\n",
              "\n",
              "      [theme=dark] .colab-df-generate:hover {\n",
              "        background-color: #434B5C;\n",
              "        box-shadow: 0px 1px 3px 1px rgba(0, 0, 0, 0.15);\n",
              "        filter: drop-shadow(0px 1px 2px rgba(0, 0, 0, 0.3));\n",
              "        fill: #FFFFFF;\n",
              "      }\n",
              "    </style>\n",
              "    <button class=\"colab-df-generate\" onclick=\"generateWithVariable('impact')\"\n",
              "            title=\"Generate code using this dataframe.\"\n",
              "            style=\"display:none;\">\n",
              "\n",
              "  <svg xmlns=\"http://www.w3.org/2000/svg\" height=\"24px\"viewBox=\"0 0 24 24\"\n",
              "       width=\"24px\">\n",
              "    <path d=\"M7,19H8.4L18.45,9,17,7.55,7,17.6ZM5,21V16.75L18.45,3.32a2,2,0,0,1,2.83,0l1.4,1.43a1.91,1.91,0,0,1,.58,1.4,1.91,1.91,0,0,1-.58,1.4L9.25,21ZM18.45,9,17,7.55Zm-12,3A5.31,5.31,0,0,0,4.9,8.1,5.31,5.31,0,0,0,1,6.5,5.31,5.31,0,0,0,4.9,4.9,5.31,5.31,0,0,0,6.5,1,5.31,5.31,0,0,0,8.1,4.9,5.31,5.31,0,0,0,12,6.5,5.46,5.46,0,0,0,6.5,12Z\"/>\n",
              "  </svg>\n",
              "    </button>\n",
              "    <script>\n",
              "      (() => {\n",
              "      const buttonEl =\n",
              "        document.querySelector('#id_b3c3f559-441e-4512-9a86-9efef316fd57 button.colab-df-generate');\n",
              "      buttonEl.style.display =\n",
              "        google.colab.kernel.accessAllowed ? 'block' : 'none';\n",
              "\n",
              "      buttonEl.onclick = () => {\n",
              "        google.colab.notebook.generateWithVariable('impact');\n",
              "      }\n",
              "      })();\n",
              "    </script>\n",
              "  </div>\n",
              "\n",
              "    </div>\n",
              "  </div>\n"
            ],
            "application/vnd.google.colaboratory.intrinsic+json": {
              "type": "dataframe",
              "variable_name": "impact",
              "summary": "{\n  \"name\": \"impact\",\n  \"rows\": 30,\n  \"fields\": [\n    {\n      \"column\": \"team\",\n      \"properties\": {\n        \"dtype\": \"string\",\n        \"num_unique_values\": 30,\n        \"samples\": [\n          \"POR\",\n          \"NOP\",\n          \"OKC\"\n        ],\n        \"semantic_type\": \"\",\n        \"description\": \"\"\n      }\n    },\n    {\n      \"column\": \"schedule_wins\",\n      \"properties\": {\n        \"dtype\": \"number\",\n        \"std\": 0.4965931057150091,\n        \"min\": -1.81,\n        \"max\": 0.02,\n        \"num_unique_values\": 29,\n        \"samples\": [\n          -1.66,\n          -1.13,\n          -0.94\n        ],\n        \"semantic_type\": \"\",\n        \"description\": \"\"\n      }\n    }\n  ]\n}"
            }
          },
          "metadata": {}
        },
        {
          "output_type": "stream",
          "name": "stdout",
          "text": [
            "\n",
            "Most helped team: MIL: 0.02 wins\n",
            "Most hurt team: GSW: -1.81 wins\n"
          ]
        }
      ]
    },
    {
      "cell_type": "markdown",
      "metadata": {
        "id": "f9BPSa2HrTDP"
      },
      "source": [
        "<strong><span style=\"color:red\">ANSWER 9:</span></strong>  \n",
        "\n",
        "- Most Helped by Schedule: MIL (0.02 wins)     \n",
        "- Most Hurt by Schedule: GSW (-1.81 wins)    \n"
      ]
    },
    {
      "cell_type": "markdown",
      "source": [
        "### **Model Type**\n",
        "\n",
        "To estimate how many wins teams gained or lost from schedule factors between 2019–20 and 2023–24, I fit a simple logistic regression model where the outcome is whether a team won a given game. The predictors focus on schedule-driven variables: whether the team was on the second night of a back-to-back, whether the opponent was, the rest differential in days between the two teams, and the travel distance from the previous game. I also controlled for opponent strength (using prior-season win percentage) and whether the game was played at home. After fitting, I created a “neutral schedule” counterfactual (no back-to-backs, zero rest differential, median travel) and compared expected wins under real vs. neutral conditions. The difference gives an estimate of schedule-related wins gained or lost by each team across the five seasons.\n",
        "\n",
        "### **Model Diagnostic**\n",
        "\n",
        "For diagnostics, I reviewed the regression summary. The coefficients had the expected signs: being on a back-to-back reduced win probability, facing an opponent on a back-to-back increased it, greater rest differential favored the more rested team, and longer travel slightly reduced win chances. Home court and opponent strength behaved as expected as well. As a simple visual, I could also present a variable importance bar plot (absolute coefficient magnitudes on a standardized scale) to show which schedule factors matter most. This helps demonstrate both the direction and magnitude of schedule effects before aggregating to the team-level wins gained or lost."
      ],
      "metadata": {
        "id": "tsDO9hvgJ5OO"
      }
    }
  ],
  "metadata": {
    "kernelspec": {
      "display_name": "Python 3",
      "language": "python",
      "name": "python3"
    },
    "language_info": {
      "codemirror_mode": {
        "name": "ipython",
        "version": 3
      },
      "file_extension": ".py",
      "mimetype": "text/x-python",
      "name": "python",
      "nbconvert_exporter": "python",
      "pygments_lexer": "ipython3",
      "version": "3.7.4"
    },
    "colab": {
      "provenance": []
    }
  },
  "nbformat": 4,
  "nbformat_minor": 0
}